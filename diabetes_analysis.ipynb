{
 "cells": [
  {
   "cell_type": "markdown",
   "metadata": {
    "id": "_1BUJ5WMNsZS"
   },
   "source": [
    "# **Importing necessary libraries**"
   ]
  },
  {
   "cell_type": "code",
   "execution_count": 1,
   "metadata": {
    "colab": {
     "base_uri": "https://localhost:8080/",
     "height": 17
    },
    "id": "K1mWg_psN4Fg",
    "outputId": "0268008b-e11a-410d-8dd7-36c0ac9cb06d"
   },
   "outputs": [],
   "source": [
    "import pandas as pd\n",
    "import numpy as np\n",
    "import matplotlib.pyplot as plt\n",
    "import seaborn as sns\n",
    "\n",
    "import warnings\n",
    "from sklearn.model_selection import cross_val_score\n",
    "from sklearn.metrics import confusion_matrix, classification_report, accuracy_score, mean_absolute_error, mean_squared_error, f1_score"
   ]
  },
  {
   "cell_type": "markdown",
   "metadata": {
    "id": "xOU7M0cDOI36"
   },
   "source": [
    "# **Uploading the dataset**"
   ]
  },
  {
   "cell_type": "code",
   "execution_count": 2,
   "metadata": {
    "colab": {
     "base_uri": "https://localhost:8080/",
     "height": 17
    },
    "id": "wwbgvLZ7OOuy",
    "outputId": "d83fddd7-21a6-440e-9220-69f1d783f64b"
   },
   "outputs": [],
   "source": [
    "data = pd.read_csv('diabetes-2-1.csv')"
   ]
  },
  {
   "cell_type": "code",
   "execution_count": 3,
   "metadata": {
    "colab": {
     "base_uri": "https://localhost:8080/",
     "height": 287
    },
    "id": "mb47OZGzOenf",
    "outputId": "6927789b-4cf2-4012-eaae-771cf477e2ec"
   },
   "outputs": [
    {
     "data": {
      "text/html": [
       "<div>\n",
       "<style scoped>\n",
       "    .dataframe tbody tr th:only-of-type {\n",
       "        vertical-align: middle;\n",
       "    }\n",
       "\n",
       "    .dataframe tbody tr th {\n",
       "        vertical-align: top;\n",
       "    }\n",
       "\n",
       "    .dataframe thead th {\n",
       "        text-align: right;\n",
       "    }\n",
       "</style>\n",
       "<table border=\"1\" class=\"dataframe\">\n",
       "  <thead>\n",
       "    <tr style=\"text-align: right;\">\n",
       "      <th></th>\n",
       "      <th>Pregnancies</th>\n",
       "      <th>Glucose</th>\n",
       "      <th>BloodPressure</th>\n",
       "      <th>SkinThickness</th>\n",
       "      <th>Insulin</th>\n",
       "      <th>BMI</th>\n",
       "      <th>DiabetesPedigreeFunction</th>\n",
       "      <th>Age</th>\n",
       "      <th>Outcome</th>\n",
       "    </tr>\n",
       "  </thead>\n",
       "  <tbody>\n",
       "    <tr>\n",
       "      <th>0</th>\n",
       "      <td>6</td>\n",
       "      <td>148</td>\n",
       "      <td>72</td>\n",
       "      <td>35</td>\n",
       "      <td>0</td>\n",
       "      <td>33.6</td>\n",
       "      <td>0.627</td>\n",
       "      <td>50</td>\n",
       "      <td>1</td>\n",
       "    </tr>\n",
       "    <tr>\n",
       "      <th>1</th>\n",
       "      <td>1</td>\n",
       "      <td>85</td>\n",
       "      <td>66</td>\n",
       "      <td>29</td>\n",
       "      <td>0</td>\n",
       "      <td>26.6</td>\n",
       "      <td>0.351</td>\n",
       "      <td>31</td>\n",
       "      <td>0</td>\n",
       "    </tr>\n",
       "    <tr>\n",
       "      <th>2</th>\n",
       "      <td>8</td>\n",
       "      <td>183</td>\n",
       "      <td>64</td>\n",
       "      <td>0</td>\n",
       "      <td>0</td>\n",
       "      <td>23.3</td>\n",
       "      <td>0.672</td>\n",
       "      <td>32</td>\n",
       "      <td>1</td>\n",
       "    </tr>\n",
       "    <tr>\n",
       "      <th>3</th>\n",
       "      <td>1</td>\n",
       "      <td>89</td>\n",
       "      <td>66</td>\n",
       "      <td>23</td>\n",
       "      <td>94</td>\n",
       "      <td>28.1</td>\n",
       "      <td>0.167</td>\n",
       "      <td>21</td>\n",
       "      <td>0</td>\n",
       "    </tr>\n",
       "    <tr>\n",
       "      <th>4</th>\n",
       "      <td>0</td>\n",
       "      <td>137</td>\n",
       "      <td>40</td>\n",
       "      <td>35</td>\n",
       "      <td>168</td>\n",
       "      <td>43.1</td>\n",
       "      <td>2.288</td>\n",
       "      <td>33</td>\n",
       "      <td>1</td>\n",
       "    </tr>\n",
       "  </tbody>\n",
       "</table>\n",
       "</div>"
      ],
      "text/plain": [
       "   Pregnancies  Glucose  BloodPressure  SkinThickness  Insulin   BMI  \\\n",
       "0            6      148             72             35        0  33.6   \n",
       "1            1       85             66             29        0  26.6   \n",
       "2            8      183             64              0        0  23.3   \n",
       "3            1       89             66             23       94  28.1   \n",
       "4            0      137             40             35      168  43.1   \n",
       "\n",
       "   DiabetesPedigreeFunction  Age  Outcome  \n",
       "0                     0.627   50        1  \n",
       "1                     0.351   31        0  \n",
       "2                     0.672   32        1  \n",
       "3                     0.167   21        0  \n",
       "4                     2.288   33        1  "
      ]
     },
     "execution_count": 3,
     "metadata": {},
     "output_type": "execute_result"
    }
   ],
   "source": [
    "data.head()"
   ]
  },
  {
   "cell_type": "markdown",
   "metadata": {
    "id": "n5fCgFI1PMpn"
   },
   "source": [
    "# **Exploratory data analysis**"
   ]
  },
  {
   "cell_type": "code",
   "execution_count": 4,
   "metadata": {
    "colab": {
     "base_uri": "https://localhost:8080/",
     "height": 430
    },
    "id": "UImPyhkaPWaA",
    "outputId": "7fa662bd-2212-43ed-9fad-16e4e3ae15b9"
   },
   "outputs": [
    {
     "name": "stdout",
     "output_type": "stream",
     "text": [
      "<class 'pandas.core.frame.DataFrame'>\n",
      "RangeIndex: 768 entries, 0 to 767\n",
      "Data columns (total 9 columns):\n",
      " #   Column                    Non-Null Count  Dtype  \n",
      "---  ------                    --------------  -----  \n",
      " 0   Pregnancies               768 non-null    int64  \n",
      " 1   Glucose                   768 non-null    int64  \n",
      " 2   BloodPressure             768 non-null    int64  \n",
      " 3   SkinThickness             768 non-null    int64  \n",
      " 4   Insulin                   768 non-null    int64  \n",
      " 5   BMI                       768 non-null    float64\n",
      " 6   DiabetesPedigreeFunction  768 non-null    float64\n",
      " 7   Age                       768 non-null    int64  \n",
      " 8   Outcome                   768 non-null    int64  \n",
      "dtypes: float64(2), int64(7)\n",
      "memory usage: 54.1 KB\n"
     ]
    }
   ],
   "source": [
    "data.info()"
   ]
  },
  {
   "cell_type": "code",
   "execution_count": 5,
   "metadata": {
    "colab": {
     "base_uri": "https://localhost:8080/",
     "height": 441
    },
    "id": "9W4Wum_TP-FU",
    "outputId": "0c82500a-b398-438b-83ea-8896a96034d5"
   },
   "outputs": [
    {
     "data": {
      "text/html": [
       "<div>\n",
       "<style scoped>\n",
       "    .dataframe tbody tr th:only-of-type {\n",
       "        vertical-align: middle;\n",
       "    }\n",
       "\n",
       "    .dataframe tbody tr th {\n",
       "        vertical-align: top;\n",
       "    }\n",
       "\n",
       "    .dataframe thead th {\n",
       "        text-align: right;\n",
       "    }\n",
       "</style>\n",
       "<table border=\"1\" class=\"dataframe\">\n",
       "  <thead>\n",
       "    <tr style=\"text-align: right;\">\n",
       "      <th></th>\n",
       "      <th>Pregnancies</th>\n",
       "      <th>Glucose</th>\n",
       "      <th>BloodPressure</th>\n",
       "      <th>SkinThickness</th>\n",
       "      <th>Insulin</th>\n",
       "      <th>BMI</th>\n",
       "      <th>DiabetesPedigreeFunction</th>\n",
       "      <th>Age</th>\n",
       "      <th>Outcome</th>\n",
       "    </tr>\n",
       "  </thead>\n",
       "  <tbody>\n",
       "    <tr>\n",
       "      <th>count</th>\n",
       "      <td>768.000000</td>\n",
       "      <td>768.000000</td>\n",
       "      <td>768.000000</td>\n",
       "      <td>768.000000</td>\n",
       "      <td>768.000000</td>\n",
       "      <td>768.000000</td>\n",
       "      <td>768.000000</td>\n",
       "      <td>768.000000</td>\n",
       "      <td>768.000000</td>\n",
       "    </tr>\n",
       "    <tr>\n",
       "      <th>mean</th>\n",
       "      <td>3.845052</td>\n",
       "      <td>120.894531</td>\n",
       "      <td>69.105469</td>\n",
       "      <td>20.536458</td>\n",
       "      <td>79.799479</td>\n",
       "      <td>31.992578</td>\n",
       "      <td>0.471876</td>\n",
       "      <td>33.240885</td>\n",
       "      <td>0.348958</td>\n",
       "    </tr>\n",
       "    <tr>\n",
       "      <th>std</th>\n",
       "      <td>3.369578</td>\n",
       "      <td>31.972618</td>\n",
       "      <td>19.355807</td>\n",
       "      <td>15.952218</td>\n",
       "      <td>115.244002</td>\n",
       "      <td>7.884160</td>\n",
       "      <td>0.331329</td>\n",
       "      <td>11.760232</td>\n",
       "      <td>0.476951</td>\n",
       "    </tr>\n",
       "    <tr>\n",
       "      <th>min</th>\n",
       "      <td>0.000000</td>\n",
       "      <td>0.000000</td>\n",
       "      <td>0.000000</td>\n",
       "      <td>0.000000</td>\n",
       "      <td>0.000000</td>\n",
       "      <td>0.000000</td>\n",
       "      <td>0.078000</td>\n",
       "      <td>21.000000</td>\n",
       "      <td>0.000000</td>\n",
       "    </tr>\n",
       "    <tr>\n",
       "      <th>25%</th>\n",
       "      <td>1.000000</td>\n",
       "      <td>99.000000</td>\n",
       "      <td>62.000000</td>\n",
       "      <td>0.000000</td>\n",
       "      <td>0.000000</td>\n",
       "      <td>27.300000</td>\n",
       "      <td>0.243750</td>\n",
       "      <td>24.000000</td>\n",
       "      <td>0.000000</td>\n",
       "    </tr>\n",
       "    <tr>\n",
       "      <th>50%</th>\n",
       "      <td>3.000000</td>\n",
       "      <td>117.000000</td>\n",
       "      <td>72.000000</td>\n",
       "      <td>23.000000</td>\n",
       "      <td>30.500000</td>\n",
       "      <td>32.000000</td>\n",
       "      <td>0.372500</td>\n",
       "      <td>29.000000</td>\n",
       "      <td>0.000000</td>\n",
       "    </tr>\n",
       "    <tr>\n",
       "      <th>75%</th>\n",
       "      <td>6.000000</td>\n",
       "      <td>140.250000</td>\n",
       "      <td>80.000000</td>\n",
       "      <td>32.000000</td>\n",
       "      <td>127.250000</td>\n",
       "      <td>36.600000</td>\n",
       "      <td>0.626250</td>\n",
       "      <td>41.000000</td>\n",
       "      <td>1.000000</td>\n",
       "    </tr>\n",
       "    <tr>\n",
       "      <th>max</th>\n",
       "      <td>17.000000</td>\n",
       "      <td>199.000000</td>\n",
       "      <td>122.000000</td>\n",
       "      <td>99.000000</td>\n",
       "      <td>846.000000</td>\n",
       "      <td>67.100000</td>\n",
       "      <td>2.420000</td>\n",
       "      <td>81.000000</td>\n",
       "      <td>1.000000</td>\n",
       "    </tr>\n",
       "  </tbody>\n",
       "</table>\n",
       "</div>"
      ],
      "text/plain": [
       "       Pregnancies     Glucose  BloodPressure  SkinThickness     Insulin  \\\n",
       "count   768.000000  768.000000     768.000000     768.000000  768.000000   \n",
       "mean      3.845052  120.894531      69.105469      20.536458   79.799479   \n",
       "std       3.369578   31.972618      19.355807      15.952218  115.244002   \n",
       "min       0.000000    0.000000       0.000000       0.000000    0.000000   \n",
       "25%       1.000000   99.000000      62.000000       0.000000    0.000000   \n",
       "50%       3.000000  117.000000      72.000000      23.000000   30.500000   \n",
       "75%       6.000000  140.250000      80.000000      32.000000  127.250000   \n",
       "max      17.000000  199.000000     122.000000      99.000000  846.000000   \n",
       "\n",
       "              BMI  DiabetesPedigreeFunction         Age     Outcome  \n",
       "count  768.000000                768.000000  768.000000  768.000000  \n",
       "mean    31.992578                  0.471876   33.240885    0.348958  \n",
       "std      7.884160                  0.331329   11.760232    0.476951  \n",
       "min      0.000000                  0.078000   21.000000    0.000000  \n",
       "25%     27.300000                  0.243750   24.000000    0.000000  \n",
       "50%     32.000000                  0.372500   29.000000    0.000000  \n",
       "75%     36.600000                  0.626250   41.000000    1.000000  \n",
       "max     67.100000                  2.420000   81.000000    1.000000  "
      ]
     },
     "execution_count": 5,
     "metadata": {},
     "output_type": "execute_result"
    }
   ],
   "source": [
    "data.describe()"
   ]
  },
  {
   "cell_type": "code",
   "execution_count": 6,
   "metadata": {
    "colab": {
     "base_uri": "https://localhost:8080/",
     "height": 906
    },
    "id": "chGlM37LyT4z",
    "outputId": "45338ee6-43ba-449e-f7bc-572a7fb12267"
   },
   "outputs": [
    {
     "data": {
      "image/png": "[encoded data removed]",
      "text/plain": [
       "<Figure size 1100x900 with 9 Axes>"
      ]
     },
     "metadata": {},
     "output_type": "display_data"
    }
   ],
   "source": [
    "cols = data.columns.to_list()\n",
    "\n",
    "# Creating 3x3 grid and iterating through the columns to plot the distributions of each variable\n",
    "fig, axs = plt.subplots(3, 3, figsize=(11, 9), dpi=100)\n",
    "for i, var in enumerate(cols):\n",
    "    row = i // 3\n",
    "    col = i % 3\n",
    "    sns.histplot(data=data, x=var, kde=True, ax=axs[row, col], color=\"blue\", edgecolor=\"w\", hue='Outcome')\n",
    "    axs[row, col].set_title(var)\n",
    "    axs[row, col].set_ylabel(\"Patients Frequency\")\n",
    "    axs[row, col].grid(True)\n",
    "\n",
    "plt.tight_layout()\n",
    "plt.show()"
   ]
  },
  {
   "cell_type": "code",
   "execution_count": 7,
   "metadata": {
    "colab": {
     "base_uri": "https://localhost:8080/",
     "height": 275
    },
    "id": "h5o5sOHnR003",
    "outputId": "a15496aa-8246-4e57-8e07-1e891a2732fe"
   },
   "outputs": [
    {
     "data": {
      "text/plain": [
       "Outcome                     1.000000\n",
       "Glucose                     0.466581\n",
       "BMI                         0.292695\n",
       "Age                         0.238356\n",
       "Pregnancies                 0.221898\n",
       "DiabetesPedigreeFunction    0.173844\n",
       "Insulin                     0.130548\n",
       "SkinThickness               0.074752\n",
       "BloodPressure               0.065068\n",
       "Name: Outcome, dtype: float64"
      ]
     },
     "execution_count": 7,
     "metadata": {},
     "output_type": "execute_result"
    }
   ],
   "source": [
    "corr_matrix = data.corr()\n",
    "\n",
    "corr_matrix['Outcome'].sort_values(ascending=False)"
   ]
  },
  {
   "cell_type": "markdown",
   "metadata": {
    "id": "o-WfitbXiNf0"
   },
   "source": [
    "# **Data Cleaning**"
   ]
  },
  {
   "cell_type": "code",
   "execution_count": 8,
   "metadata": {
    "colab": {
     "base_uri": "https://localhost:8080/",
     "height": 275
    },
    "id": "w6L-ZhsqusLW",
    "outputId": "11d40524-dbe0-4608-a936-137661d02887"
   },
   "outputs": [
    {
     "data": {
      "text/plain": [
       "Pregnancies                 0\n",
       "Glucose                     0\n",
       "BloodPressure               0\n",
       "SkinThickness               0\n",
       "Insulin                     0\n",
       "BMI                         0\n",
       "DiabetesPedigreeFunction    0\n",
       "Age                         0\n",
       "Outcome                     0\n",
       "dtype: int64"
      ]
     },
     "execution_count": 8,
     "metadata": {},
     "output_type": "execute_result"
    }
   ],
   "source": [
    "data.isnull().sum()"
   ]
  },
  {
   "cell_type": "code",
   "execution_count": 9,
   "metadata": {
    "colab": {
     "base_uri": "https://localhost:8080/",
     "height": 275
    },
    "id": "sb6LaRVyVyKz",
    "outputId": "abd26348-9b56-4198-b0bf-3890f7d26479"
   },
   "outputs": [
    {
     "data": {
      "text/plain": [
       "DiabetesPedigreeFunction      0\n",
       "Age                           0\n",
       "Glucose                       5\n",
       "BMI                          11\n",
       "BloodPressure                35\n",
       "Pregnancies                 111\n",
       "SkinThickness               227\n",
       "Insulin                     374\n",
       "Outcome                     500\n",
       "dtype: int64"
      ]
     },
     "execution_count": 9,
     "metadata": {},
     "output_type": "execute_result"
    }
   ],
   "source": [
    "ser = (data == 0).sum().sort_values()\n",
    "\n",
    "ser"
   ]
  },
  {
   "cell_type": "code",
   "execution_count": 10,
   "metadata": {
    "colab": {
     "base_uri": "https://localhost:8080/",
     "height": 17
    },
    "id": "jY-YgdZlTPi_",
    "outputId": "2617f905-3def-44c7-d38a-18133682e828"
   },
   "outputs": [],
   "source": [
    "ser.drop(['Pregnancies', 'Outcome'], inplace=True)"
   ]
  },
  {
   "cell_type": "code",
   "execution_count": 11,
   "metadata": {
    "colab": {
     "base_uri": "https://localhost:8080/",
     "height": 17
    },
    "id": "Fzq3M8TlxO3T",
    "outputId": "a18f9fd8-c402-42d6-9911-69374f968782"
   },
   "outputs": [],
   "source": [
    "cols = ser[ser != 0].index.to_list()\n",
    "\n",
    "data[cols] = np.where(data[cols] == 0, np.nan, data[cols])"
   ]
  },
  {
   "cell_type": "code",
   "execution_count": 12,
   "metadata": {
    "colab": {
     "base_uri": "https://localhost:8080/",
     "height": 17
    },
    "id": "SmCTwfl4O3g7",
    "outputId": "9f315cf6-2ac1-4eea-9269-29e9057f42a6"
   },
   "outputs": [],
   "source": [
    "def impute_val(data):\n",
    "    impute = (data['mean'] - data['median']) / data['median'] * 100\n",
    "    impute = np.where(impute <= 1.5, data['mean'], data['median'])\n",
    "    return impute.round(2)\n",
    "\n",
    "diabetes = data[data['Outcome'] == 1][cols].agg(['mean', 'median']).T\n",
    "nondiabetes = data[data['Outcome'] == 0][cols].agg(['mean', 'median']).T\n",
    "\n",
    "diabetes['impute'] = impute_val(diabetes)\n",
    "nondiabetes['impute'] = impute_val(nondiabetes)\n",
    "\n",
    "for col in cols:\n",
    "    mask_diabetes = (data[col].isna()) & (data['Outcome'] == 1)\n",
    "    mask_nondiabetes = (data[col].isna()) & (data['Outcome'] == 0)\n",
    "    data.loc[mask_diabetes, col] = data.loc[mask_diabetes, col].fillna(diabetes.loc[col, 'impute'])\n",
    "    data.loc[mask_nondiabetes, col] = data.loc[mask_nondiabetes, col].fillna(nondiabetes.loc[col, 'impute'])"
   ]
  },
  {
   "cell_type": "code",
   "execution_count": 13,
   "metadata": {
    "colab": {
     "base_uri": "https://localhost:8080/",
     "height": 275
    },
    "id": "9dtZaHSeRKRb",
    "outputId": "a7a29c9a-3850-410b-be35-ebde0b2a17f7"
   },
   "outputs": [
    {
     "data": {
      "text/plain": [
       "Glucose                       0\n",
       "BloodPressure                 0\n",
       "SkinThickness                 0\n",
       "Insulin                       0\n",
       "BMI                           0\n",
       "DiabetesPedigreeFunction      0\n",
       "Age                           0\n",
       "Pregnancies                 111\n",
       "Outcome                     500\n",
       "dtype: int64"
      ]
     },
     "execution_count": 13,
     "metadata": {},
     "output_type": "execute_result"
    }
   ],
   "source": [
    "(data == 0).sum().sort_values()"
   ]
  },
  {
   "cell_type": "markdown",
   "metadata": {
    "id": "44wpCkP3Quft"
   },
   "source": [
    "# **Feature Engineering**"
   ]
  },
  {
   "cell_type": "markdown",
   "metadata": {
    "id": "d5wZMaNXRY_D"
   },
   "source": [
    " - BMI = 0 then “NA”\n",
    " - 0 < BMI < 18.5 then “Under Weight”\n",
    " - 18.5 <= BMI < 25 then “Normal”\n",
    " - 25 <= BMI < 30 then “Overweight”\n",
    " - 30 <= BMI then “Obese”"
   ]
  },
  {
   "cell_type": "code",
   "execution_count": 14,
   "metadata": {
    "colab": {
     "base_uri": "https://localhost:8080/",
     "height": 17
    },
    "id": "olHgo0SJQ6Ej",
    "outputId": "237887ac-6b25-4c3a-ecc2-8b7450103aa3"
   },
   "outputs": [],
   "source": [
    "# data['BMI_'] = pd.cut(data['BMI'],\n",
    "#                               bins = [-float('inf'), 0, 18.5, 25, 30, float('inf')],\n",
    "#                               labels = ['NA', 'Under_Weight', 'Normal', 'Overweight', 'Obese'])"
   ]
  },
  {
   "cell_type": "markdown",
   "metadata": {
    "id": "Uo6orkj7zlRi"
   },
   "source": [
    "- Glucose == 0 then “NA”\n",
    "- Glucose < 140 then “Normal”\n",
    "- 140 <= Glucose < 198 then “Impaired Glucose Tolerance”\n",
    "- 198 <= Glucose then “Diabetic Level”"
   ]
  },
  {
   "cell_type": "code",
   "execution_count": 15,
   "metadata": {
    "colab": {
     "base_uri": "https://localhost:8080/",
     "height": 17
    },
    "id": "JV5Tl9Y8g8ow",
    "outputId": "0e7ae77f-2d57-4569-eae3-44aa5a72f93d"
   },
   "outputs": [],
   "source": [
    "# data['Glucose_'] = pd.cut(data['Glucose'],\n",
    "#                               bins = [-float('inf'), 0, 140, 198, float('inf')],\n",
    "#                               labels = ['NA', 'Normal', 'Impaired_Tolerance', 'Diabetic_Level'])"
   ]
  },
  {
   "cell_type": "code",
   "execution_count": 16,
   "metadata": {
    "colab": {
     "base_uri": "https://localhost:8080/",
     "height": 17
    },
    "id": "MIltXTWOicwN",
    "outputId": "79dbc0f5-0fa4-4e20-9557-7d3543cc04e6"
   },
   "outputs": [],
   "source": [
    "# data = pd.get_dummies(data, drop_first=True)\n",
    "\n",
    "# data.iloc[:, -7:] = data.iloc[:, -7:].astype('int8')\n",
    "\n",
    "# cols = ['Pregnancies',\n",
    "#         'Glucose',\n",
    "#         'BloodPressure',\n",
    "#         'SkinThickness',\n",
    "#         'Insulin',\n",
    "#         'BMI',\n",
    "#         'DiabetesPedigreeFunction',\n",
    "#         'Age',\n",
    "#         'BMI__Under_Weight',\n",
    "#         'BMI__Normal',\n",
    "#         'BMI__Overweight',\n",
    "#         'BMI__Obese',\n",
    "#         'Glucose__Normal',\n",
    "#         'Glucose__Impaired_Tolerance',\n",
    "#         'Glucose__Diabetic_Level',\n",
    "#         'Outcome']\n",
    "\n",
    "# data[cols]"
   ]
  },
  {
   "cell_type": "markdown",
   "metadata": {
    "id": "ph0yVmBlWYpd"
   },
   "source": [
    "# **Train/Test Split**"
   ]
  },
  {
   "cell_type": "code",
   "execution_count": 17,
   "metadata": {
    "colab": {
     "base_uri": "https://localhost:8080/",
     "height": 17
    },
    "id": "4meLXR3WWnPx",
    "outputId": "db011dca-a19c-450e-bd10-4644c2fc2042"
   },
   "outputs": [],
   "source": [
    "X = data.drop('Outcome', axis=1)\n",
    "\n",
    "y = data['Outcome']"
   ]
  },
  {
   "cell_type": "code",
   "execution_count": 18,
   "metadata": {
    "colab": {
     "base_uri": "https://localhost:8080/",
     "height": 17
    },
    "id": "5Eu0k_3CWfbp",
    "outputId": "5d04171a-7b53-4b3e-aed5-dd218c5deba5"
   },
   "outputs": [],
   "source": [
    "from sklearn.model_selection import train_test_split\n",
    "\n",
    "X_train, X_test, y_train, y_test = train_test_split(X, y, test_size=0.2, random_state=20)"
   ]
  },
  {
   "cell_type": "markdown",
   "metadata": {
    "id": "4VxDq53hqcDW"
   },
   "source": [
    "# **Scaling the data**"
   ]
  },
  {
   "cell_type": "code",
   "execution_count": 19,
   "metadata": {
    "colab": {
     "base_uri": "https://localhost:8080/",
     "height": 17
    },
    "id": "EPK71A9zqjCu",
    "outputId": "d94799d9-7e36-4fbb-dbce-0977b32f6f72"
   },
   "outputs": [],
   "source": [
    "from sklearn.preprocessing import StandardScaler\n",
    "\n",
    "scaler = StandardScaler()\n",
    "scaler.fit(X_train)\n",
    "X_train = scaler.transform(X_train)\n",
    "X_test = scaler.transform(X_test)"
   ]
  },
  {
   "cell_type": "markdown",
   "metadata": {
    "id": "zU5od18VX3hX"
   },
   "source": [
    "# **Logistic Regression**"
   ]
  },
  {
   "cell_type": "code",
   "execution_count": 20,
   "metadata": {
    "colab": {
     "base_uri": "https://localhost:8080/",
     "height": 17
    },
    "id": "J5VjZNHOYbG2",
    "outputId": "be8fb028-5297-4107-d18a-68c98210d43a"
   },
   "outputs": [],
   "source": [
    "from sklearn.linear_model import LogisticRegression\n",
    "with warnings.catch_warnings(record=True):\n",
    "\n",
    "    model_log = LogisticRegression()\n",
    "    model_log.fit(X_train, y_train)\n",
    "    y_predc_log = model_log.predict(X_test)"
   ]
  },
  {
   "cell_type": "markdown",
   "metadata": {
    "id": "XaYGRAVJeAy7"
   },
   "source": [
    "## **Evaluating results for Logistic regresion**"
   ]
  },
  {
   "cell_type": "code",
   "execution_count": 21,
   "metadata": {
    "colab": {
     "base_uri": "https://localhost:8080/",
     "height": 408
    },
    "id": "CIN97-UzcLBO",
    "outputId": "eba96b34-cd7d-4439-ba18-659dd47b5125"
   },
   "outputs": [
    {
     "data": {
      "image/png": "[encoded data removed]",
      "text/plain": [
       "<Figure size 800x300 with 4 Axes>"
      ]
     },
     "metadata": {},
     "output_type": "display_data"
    }
   ],
   "source": [
    "cm_log = confusion_matrix(y_test, y_predc_log)\n",
    "\n",
    "fig, ax = plt.subplots(1, 2, figsize=(8,3))\n",
    "\n",
    "sns.heatmap(cm_log, annot=True, fmt='d', cmap='Blues', \n",
    "            xticklabels=['Predicted 0', 'Predicted 1'],\n",
    "            yticklabels=['Actual 0', 'Actual 1'],cbar=True, \n",
    "            ax=ax[0])\n",
    "\n",
    "sns.heatmap(cm_log/np.sum(cm_log), annot=True, fmt='.2f', cmap='Blues', \n",
    "            xticklabels=['Predicted 0', 'Predicted 1'],\n",
    "            yticklabels=['Actual 0', 'Actual 1'],cbar=True, \n",
    "            ax=ax[1])\n",
    "\n",
    "plt.show()"
   ]
  },
  {
   "cell_type": "markdown",
   "metadata": {
    "id": "0Uj0Kbu-KITS"
   },
   "source": [
    "### **Evaluating results for Train set and Cross Validation**"
   ]
  },
  {
   "cell_type": "code",
   "execution_count": 22,
   "metadata": {
    "colab": {
     "base_uri": "https://localhost:8080/",
     "height": 94
    },
    "id": "CHOoaJX__sXV",
    "outputId": "a2e42dd4-9bcf-495c-b5b8-426863d963d6"
   },
   "outputs": [
    {
     "name": "stdout",
     "output_type": "stream",
     "text": [
      "\n",
      "Cross validation accuracy score: 0.78\n",
      "Standard Deviation: 0.04\n"
     ]
    }
   ],
   "source": [
    "accuracies_log = cross_val_score(model_log, X_train, y_train, cv = 10)\n",
    "print(\"\\nCross validation accuracy score: {:.2f}\".format(accuracies_log.mean()))\n",
    "print(\"Standard Deviation: {:.2f}\".format(accuracies_log.std()))"
   ]
  },
  {
   "cell_type": "code",
   "execution_count": 23,
   "metadata": {
    "colab": {
     "base_uri": "https://localhost:8080/",
     "height": 108
    },
    "id": "DROtp_UZTzzG",
    "outputId": "3350f536-83f1-4ef9-dc8a-5a1529f81ca6"
   },
   "outputs": [
    {
     "data": {
      "text/html": [
       "<div>\n",
       "<style scoped>\n",
       "    .dataframe tbody tr th:only-of-type {\n",
       "        vertical-align: middle;\n",
       "    }\n",
       "\n",
       "    .dataframe tbody tr th {\n",
       "        vertical-align: top;\n",
       "    }\n",
       "\n",
       "    .dataframe thead th {\n",
       "        text-align: right;\n",
       "    }\n",
       "</style>\n",
       "<table border=\"1\" class=\"dataframe\">\n",
       "  <thead>\n",
       "    <tr style=\"text-align: right;\">\n",
       "      <th></th>\n",
       "      <th>Accuracy</th>\n",
       "      <th>Specificity</th>\n",
       "      <th>Sensitivity</th>\n",
       "    </tr>\n",
       "  </thead>\n",
       "  <tbody>\n",
       "    <tr>\n",
       "      <th>Logistic Regression</th>\n",
       "      <td>0.785</td>\n",
       "      <td>0.877</td>\n",
       "      <td>0.614</td>\n",
       "    </tr>\n",
       "  </tbody>\n",
       "</table>\n",
       "</div>"
      ],
      "text/plain": [
       "                     Accuracy  Specificity  Sensitivity\n",
       "Logistic Regression     0.785        0.877        0.614"
      ]
     },
     "execution_count": 23,
     "metadata": {},
     "output_type": "execute_result"
    }
   ],
   "source": [
    "accuracy_score_log = accuracy_score(y_train, model_log.predict(X_train))\n",
    "tn, fp, fn, tp = confusion_matrix(y_train, model_log.predict(X_train)).ravel()\n",
    "specificity_log = tn / (tn + fp)\n",
    "sensitivity_log = tp / (tp + fn)\n",
    "\n",
    "log_table_train = pd.DataFrame({'Accuracy':accuracy_score_log.round(3),\n",
    "                                'Specificity':specificity_log.round(3),\n",
    "                                'Sensitivity':sensitivity_log.round(3)}, index=['Logistic Regression'])\n",
    "log_table_train"
   ]
  },
  {
   "cell_type": "markdown",
   "metadata": {
    "id": "ssHZ1BlpNEyq"
   },
   "source": [
    "### **Evaluating results for Test set**"
   ]
  },
  {
   "cell_type": "code",
   "execution_count": 24,
   "metadata": {
    "colab": {
     "base_uri": "https://localhost:8080/",
     "height": 327
    },
    "id": "WF3w7JuydPbS",
    "outputId": "54f1dbdb-3b3c-44f1-daed-8e7f1f8b1ef3",
    "scrolled": true
   },
   "outputs": [
    {
     "name": "stdout",
     "output_type": "stream",
     "text": [
      "              precision    recall  f1-score   support\n",
      "\n",
      "           0       0.76      0.84      0.80       101\n",
      "           1       0.62      0.49      0.55        53\n",
      "\n",
      "    accuracy                           0.72       154\n",
      "   macro avg       0.69      0.67      0.67       154\n",
      "weighted avg       0.71      0.72      0.71       154\n",
      "\n"
     ]
    }
   ],
   "source": [
    "classification_report_log = classification_report(y_test, y_predc_log)\n",
    "\n",
    "print(classification_report_log)"
   ]
  },
  {
   "cell_type": "code",
   "execution_count": 25,
   "metadata": {
    "colab": {
     "base_uri": "https://localhost:8080/",
     "height": 108
    },
    "id": "o7lKrL9yexIj",
    "outputId": "d1ddd23f-99df-4018-9b69-83a6968a0075"
   },
   "outputs": [
    {
     "data": {
      "text/html": [
       "<div>\n",
       "<style scoped>\n",
       "    .dataframe tbody tr th:only-of-type {\n",
       "        vertical-align: middle;\n",
       "    }\n",
       "\n",
       "    .dataframe tbody tr th {\n",
       "        vertical-align: top;\n",
       "    }\n",
       "\n",
       "    .dataframe thead th {\n",
       "        text-align: right;\n",
       "    }\n",
       "</style>\n",
       "<table border=\"1\" class=\"dataframe\">\n",
       "  <thead>\n",
       "    <tr style=\"text-align: right;\">\n",
       "      <th></th>\n",
       "      <th>Accuracy</th>\n",
       "      <th>Specificity</th>\n",
       "      <th>Sensitivity</th>\n",
       "    </tr>\n",
       "  </thead>\n",
       "  <tbody>\n",
       "    <tr>\n",
       "      <th>Logistic Regression</th>\n",
       "      <td>0.721</td>\n",
       "      <td>0.842</td>\n",
       "      <td>0.491</td>\n",
       "    </tr>\n",
       "  </tbody>\n",
       "</table>\n",
       "</div>"
      ],
      "text/plain": [
       "                     Accuracy  Specificity  Sensitivity\n",
       "Logistic Regression     0.721        0.842        0.491"
      ]
     },
     "execution_count": 25,
     "metadata": {},
     "output_type": "execute_result"
    }
   ],
   "source": [
    "accuracy_score_log = accuracy_score(y_test, y_predc_log)\n",
    "tn, fp, fn, tp = confusion_matrix(y_test, y_predc_log).ravel()\n",
    "specificity_log = tn / (tn + fp)\n",
    "sensitivity_log = tp / (tp + fn)\n",
    "\n",
    "log_table_test = pd.DataFrame({'Accuracy':accuracy_score_log.round(3),\n",
    "                                'Specificity':specificity_log.round(3),\n",
    "                                'Sensitivity':sensitivity_log.round(3)}, index=['Logistic Regression'])\n",
    "log_table_test"
   ]
  },
  {
   "cell_type": "markdown",
   "metadata": {
    "id": "vhK2blO_X4gR"
   },
   "source": [
    "### **Creating summary table**"
   ]
  },
  {
   "cell_type": "code",
   "execution_count": 26,
   "metadata": {
    "colab": {
     "base_uri": "https://localhost:8080/",
     "height": 152
    },
    "id": "orMCHqxPWBX2",
    "outputId": "fd2fb2da-f239-4c70-ebe0-ad6aa07fd462"
   },
   "outputs": [
    {
     "data": {
      "text/html": [
       "<div>\n",
       "<style scoped>\n",
       "    .dataframe tbody tr th:only-of-type {\n",
       "        vertical-align: middle;\n",
       "    }\n",
       "\n",
       "    .dataframe tbody tr th {\n",
       "        vertical-align: top;\n",
       "    }\n",
       "\n",
       "    .dataframe thead tr th {\n",
       "        text-align: left;\n",
       "    }\n",
       "</style>\n",
       "<table border=\"1\" class=\"dataframe\">\n",
       "  <thead>\n",
       "    <tr>\n",
       "      <th></th>\n",
       "      <th colspan=\"3\" halign=\"left\">Train</th>\n",
       "      <th colspan=\"3\" halign=\"left\">Test</th>\n",
       "    </tr>\n",
       "    <tr>\n",
       "      <th></th>\n",
       "      <th>Accuracy</th>\n",
       "      <th>Specificity</th>\n",
       "      <th>Sensitivity</th>\n",
       "      <th>Accuracy</th>\n",
       "      <th>Specificity</th>\n",
       "      <th>Sensitivity</th>\n",
       "    </tr>\n",
       "  </thead>\n",
       "  <tbody>\n",
       "    <tr>\n",
       "      <th>Logistic Regression</th>\n",
       "      <td>0.785</td>\n",
       "      <td>0.877</td>\n",
       "      <td>0.614</td>\n",
       "      <td>0.721</td>\n",
       "      <td>0.842</td>\n",
       "      <td>0.491</td>\n",
       "    </tr>\n",
       "  </tbody>\n",
       "</table>\n",
       "</div>"
      ],
      "text/plain": [
       "                       Train                             Test              \\\n",
       "                    Accuracy Specificity Sensitivity Accuracy Specificity   \n",
       "Logistic Regression    0.785       0.877       0.614    0.721       0.842   \n",
       "\n",
       "                                 \n",
       "                    Sensitivity  \n",
       "Logistic Regression       0.491  "
      ]
     },
     "execution_count": 26,
     "metadata": {},
     "output_type": "execute_result"
    }
   ],
   "source": [
    "cols = log_table_test.columns.to_list()\n",
    "columns = pd.MultiIndex.from_product([['Train', 'Test'], cols])\n",
    "\n",
    "log_summary_table = log_table_train.merge(log_table_test, how='outer', left_index=True, right_index=True)\n",
    "log_summary_table.columns = columns\n",
    "log_summary_table"
   ]
  },
  {
   "cell_type": "markdown",
   "metadata": {
    "id": "8FSCYVfa83O9"
   },
   "source": [
    "# **Logistic Regression with Hyperparameters**"
   ]
  },
  {
   "cell_type": "code",
   "execution_count": 27,
   "metadata": {
    "colab": {
     "base_uri": "https://localhost:8080/",
     "height": 17
    },
    "id": "HdTplCgs83PE",
    "outputId": "7e4822bf-4632-4726-b1ec-8befd865a851"
   },
   "outputs": [],
   "source": [
    "param_grid = {\n",
    "    'penalty': ['l1', 'l2'],\n",
    "    'C': np.linspace(0.05, 1, 1000),\n",
    "    'solver': ['liblinear', 'saga'],\n",
    "    'class_weight': [None, 'balanced']\n",
    "}"
   ]
  },
  {
   "cell_type": "code",
   "execution_count": 28,
   "metadata": {
    "colab": {
     "base_uri": "https://localhost:8080/",
     "height": 43
    },
    "id": "h-YNS9AA9TZf",
    "outputId": "4538dcae-f8ba-4429-fa37-5847f4a5b28a"
   },
   "outputs": [
    {
     "name": "stdout",
     "output_type": "stream",
     "text": [
      "Fitting 5 folds for each of 8000 candidates, totalling 40000 fits\n"
     ]
    }
   ],
   "source": [
    "from sklearn.model_selection import GridSearchCV\n",
    "\n",
    "clf = GridSearchCV(model_log, param_grid = param_grid, cv = 5, verbose=True, n_jobs=-1)\n",
    "\n",
    "best_clf = clf.fit(X_train,y_train)"
   ]
  },
  {
   "cell_type": "code",
   "execution_count": 29,
   "metadata": {
    "colab": {
     "base_uri": "https://localhost:8080/",
     "height": 99
    },
    "id": "pV3CPeOb9lme",
    "outputId": "2d1bcdc5-8b46-4811-cab1-a18c35b00daf"
   },
   "outputs": [
    {
     "data": {
      "text/html": [
       "<style>#sk-container-id-1 {color: black;}#sk-container-id-1 pre{padding: 0;}#sk-container-id-1 div.sk-toggleable {background-color: white;}#sk-container-id-1 label.sk-toggleable__label {cursor: pointer;display: block;width: 100%;margin-bottom: 0;padding: 0.3em;box-sizing: border-box;text-align: center;}#sk-container-id-1 label.sk-toggleable__label-arrow:before {content: \"▸\";float: left;margin-right: 0.25em;color: #696969;}#sk-container-id-1 label.sk-toggleable__label-arrow:hover:before {color: black;}#sk-container-id-1 div.sk-estimator:hover label.sk-toggleable__label-arrow:before {color: black;}#sk-container-id-1 div.sk-toggleable__content {max-height: 0;max-width: 0;overflow: hidden;text-align: left;background-color: #f0f8ff;}#sk-container-id-1 div.sk-toggleable__content pre {margin: 0.2em;color: black;border-radius: 0.25em;background-color: #f0f8ff;}#sk-container-id-1 input.sk-toggleable__control:checked~div.sk-toggleable__content {max-height: 200px;max-width: 100%;overflow: auto;}#sk-container-id-1 input.sk-toggleable__control:checked~label.sk-toggleable__label-arrow:before {content: \"▾\";}#sk-container-id-1 div.sk-estimator input.sk-toggleable__control:checked~label.sk-toggleable__label {background-color: #d4ebff;}#sk-container-id-1 div.sk-label input.sk-toggleable__control:checked~label.sk-toggleable__label {background-color: #d4ebff;}#sk-container-id-1 input.sk-hidden--visually {border: 0;clip: rect(1px 1px 1px 1px);clip: rect(1px, 1px, 1px, 1px);height: 1px;margin: -1px;overflow: hidden;padding: 0;position: absolute;width: 1px;}#sk-container-id-1 div.sk-estimator {font-family: monospace;background-color: #f0f8ff;border: 1px dotted black;border-radius: 0.25em;box-sizing: border-box;margin-bottom: 0.5em;}#sk-container-id-1 div.sk-estimator:hover {background-color: #d4ebff;}#sk-container-id-1 div.sk-parallel-item::after {content: \"\";width: 100%;border-bottom: 1px solid gray;flex-grow: 1;}#sk-container-id-1 div.sk-label:hover label.sk-toggleable__label {background-color: #d4ebff;}#sk-container-id-1 div.sk-serial::before {content: \"\";position: absolute;border-left: 1px solid gray;box-sizing: border-box;top: 0;bottom: 0;left: 50%;z-index: 0;}#sk-container-id-1 div.sk-serial {display: flex;flex-direction: column;align-items: center;background-color: white;padding-right: 0.2em;padding-left: 0.2em;position: relative;}#sk-container-id-1 div.sk-item {position: relative;z-index: 1;}#sk-container-id-1 div.sk-parallel {display: flex;align-items: stretch;justify-content: center;background-color: white;position: relative;}#sk-container-id-1 div.sk-item::before, #sk-container-id-1 div.sk-parallel-item::before {content: \"\";position: absolute;border-left: 1px solid gray;box-sizing: border-box;top: 0;bottom: 0;left: 50%;z-index: -1;}#sk-container-id-1 div.sk-parallel-item {display: flex;flex-direction: column;z-index: 1;position: relative;background-color: white;}#sk-container-id-1 div.sk-parallel-item:first-child::after {align-self: flex-end;width: 50%;}#sk-container-id-1 div.sk-parallel-item:last-child::after {align-self: flex-start;width: 50%;}#sk-container-id-1 div.sk-parallel-item:only-child::after {width: 0;}#sk-container-id-1 div.sk-dashed-wrapped {border: 1px dashed gray;margin: 0 0.4em 0.5em 0.4em;box-sizing: border-box;padding-bottom: 0.4em;background-color: white;}#sk-container-id-1 div.sk-label label {font-family: monospace;font-weight: bold;display: inline-block;line-height: 1.2em;}#sk-container-id-1 div.sk-label-container {text-align: center;}#sk-container-id-1 div.sk-container {/* jupyter's `normalize.less` sets `[hidden] { display: none; }` but bootstrap.min.css set `[hidden] { display: none !important; }` so we also need the `!important` here to be able to override the default hidden behavior on the sphinx rendered scikit-learn.org. See: https://github.com/scikit-learn/scikit-learn/issues/21755 */display: inline-block !important;position: relative;}#sk-container-id-1 div.sk-text-repr-fallback {display: none;}</style><div id=\"sk-container-id-1\" class=\"sk-top-container\"><div class=\"sk-text-repr-fallback\"><pre>LogisticRegression(C=0.06996996996996997, class_weight=&#x27;balanced&#x27;, penalty=&#x27;l1&#x27;,\n",
       "                   solver=&#x27;saga&#x27;)</pre><b>In a Jupyter environment, please rerun this cell to show the HTML representation or trust the notebook. <br />On GitHub, the HTML representation is unable to render, please try loading this page with nbviewer.org.</b></div><div class=\"sk-container\" hidden><div class=\"sk-item\"><div class=\"sk-estimator sk-toggleable\"><input class=\"sk-toggleable__control sk-hidden--visually\" id=\"sk-estimator-id-1\" type=\"checkbox\" checked><label for=\"sk-estimator-id-1\" class=\"sk-toggleable__label sk-toggleable__label-arrow\">LogisticRegression</label><div class=\"sk-toggleable__content\"><pre>LogisticRegression(C=0.06996996996996997, class_weight=&#x27;balanced&#x27;, penalty=&#x27;l1&#x27;,\n",
       "                   solver=&#x27;saga&#x27;)</pre></div></div></div></div></div>"
      ],
      "text/plain": [
       "LogisticRegression(C=0.06996996996996997, class_weight='balanced', penalty='l1',\n",
       "                   solver='saga')"
      ]
     },
     "execution_count": 29,
     "metadata": {},
     "output_type": "execute_result"
    }
   ],
   "source": [
    "best_clf.best_estimator_"
   ]
  },
  {
   "cell_type": "code",
   "execution_count": 30,
   "metadata": {
    "colab": {
     "base_uri": "https://localhost:8080/",
     "height": 17
    },
    "id": "D3JhsSn9BkuB",
    "outputId": "115262d9-5212-467b-c355-a94ad0df4e73"
   },
   "outputs": [],
   "source": [
    "y_predc_hyp = best_clf.predict(X_test)"
   ]
  },
  {
   "cell_type": "markdown",
   "metadata": {
    "id": "TvcLdiws83PF"
   },
   "source": [
    "## **Evaluating results for Logistic regresion with hyperparameters tuned**"
   ]
  },
  {
   "cell_type": "code",
   "execution_count": 31,
   "metadata": {
    "colab": {
     "base_uri": "https://localhost:8080/",
     "height": 408
    },
    "id": "p_u9Aips83PF",
    "outputId": "3b6965bc-addd-4d67-b56a-0d91f07f9bc4"
   },
   "outputs": [
    {
     "data": {
      "image/png": "[encoded data removed]",
      "text/plain": [
       "<Figure size 800x300 with 4 Axes>"
      ]
     },
     "metadata": {},
     "output_type": "display_data"
    }
   ],
   "source": [
    "cm_hyp = confusion_matrix(y_test, y_predc_hyp)\n",
    "\n",
    "fig, ax = plt.subplots(1, 2, figsize=(8,3))\n",
    "\n",
    "sns.heatmap(cm_hyp, annot=True, fmt='d', cmap='Blues', \n",
    "            xticklabels=['Predicted 0', 'Predicted 1'],\n",
    "            yticklabels=['Actual 0', 'Actual 1'],cbar=True, \n",
    "            ax=ax[0])\n",
    "\n",
    "sns.heatmap(cm_hyp/np.sum(cm_hyp), annot=True, fmt='.2f', cmap='Blues', \n",
    "            xticklabels=['Predicted 0', 'Predicted 1'],\n",
    "            yticklabels=['Actual 0', 'Actual 1'],cbar=True, \n",
    "            ax=ax[1])\n",
    "\n",
    "plt.show()"
   ]
  },
  {
   "cell_type": "markdown",
   "metadata": {
    "id": "-ldbKD4u83PF"
   },
   "source": [
    "### **Evaluating results for Train set and Cross Validation**"
   ]
  },
  {
   "cell_type": "code",
   "execution_count": 32,
   "metadata": {
    "colab": {
     "base_uri": "https://localhost:8080/",
     "height": 108
    },
    "id": "d-FdIu8A83PF",
    "outputId": "81d93b26-5d25-4794-f01d-a4c742d06a09"
   },
   "outputs": [
    {
     "data": {
      "text/html": [
       "<div>\n",
       "<style scoped>\n",
       "    .dataframe tbody tr th:only-of-type {\n",
       "        vertical-align: middle;\n",
       "    }\n",
       "\n",
       "    .dataframe tbody tr th {\n",
       "        vertical-align: top;\n",
       "    }\n",
       "\n",
       "    .dataframe thead th {\n",
       "        text-align: right;\n",
       "    }\n",
       "</style>\n",
       "<table border=\"1\" class=\"dataframe\">\n",
       "  <thead>\n",
       "    <tr style=\"text-align: right;\">\n",
       "      <th></th>\n",
       "      <th>Accuracy</th>\n",
       "      <th>Specificity</th>\n",
       "      <th>Sensitivity</th>\n",
       "    </tr>\n",
       "  </thead>\n",
       "  <tbody>\n",
       "    <tr>\n",
       "      <th>LR hyperparameter tuning</th>\n",
       "      <td>0.795</td>\n",
       "      <td>0.812</td>\n",
       "      <td>0.763</td>\n",
       "    </tr>\n",
       "  </tbody>\n",
       "</table>\n",
       "</div>"
      ],
      "text/plain": [
       "                          Accuracy  Specificity  Sensitivity\n",
       "LR hyperparameter tuning     0.795        0.812        0.763"
      ]
     },
     "execution_count": 32,
     "metadata": {},
     "output_type": "execute_result"
    }
   ],
   "source": [
    "accuracy_score_hyp = accuracy_score(y_train, best_clf.predict(X_train))\n",
    "tn, fp, fn, tp = confusion_matrix(y_train, best_clf.predict(X_train)).ravel()\n",
    "specificity_hyp = tn / (tn + fp)\n",
    "sensitivity_hyp = tp / (tp + fn)\n",
    "\n",
    "hyp_table_train = pd.DataFrame({'Accuracy':accuracy_score_hyp.round(3),\n",
    "                                'Specificity':specificity_hyp.round(3),\n",
    "                                'Sensitivity':sensitivity_hyp.round(3)}, index=['LR hyperparameter tuning'])\n",
    "hyp_table_train"
   ]
  },
  {
   "cell_type": "markdown",
   "metadata": {
    "id": "SBiYSu2_83PF"
   },
   "source": [
    "### **Evaluating results for Test set**"
   ]
  },
  {
   "cell_type": "code",
   "execution_count": 33,
   "metadata": {
    "colab": {
     "base_uri": "https://localhost:8080/",
     "height": 327
    },
    "id": "Q7TPkd7k83PG",
    "outputId": "755dcb04-024b-4b58-d225-62136dbf2ad8"
   },
   "outputs": [
    {
     "name": "stdout",
     "output_type": "stream",
     "text": [
      "              precision    recall  f1-score   support\n",
      "\n",
      "           0       0.88      0.79      0.83       101\n",
      "           1       0.67      0.79      0.72        53\n",
      "\n",
      "    accuracy                           0.79       154\n",
      "   macro avg       0.77      0.79      0.78       154\n",
      "weighted avg       0.81      0.79      0.80       154\n",
      "\n"
     ]
    }
   ],
   "source": [
    "classification_report_hyp = classification_report(y_test, y_predc_hyp)\n",
    "\n",
    "print(classification_report_hyp)"
   ]
  },
  {
   "cell_type": "code",
   "execution_count": 34,
   "metadata": {
    "colab": {
     "base_uri": "https://localhost:8080/",
     "height": 108
    },
    "id": "0XAeS8KU83PG",
    "outputId": "e28af17b-a0a7-488d-ce47-eaf9e4c677d7"
   },
   "outputs": [
    {
     "data": {
      "text/html": [
       "<div>\n",
       "<style scoped>\n",
       "    .dataframe tbody tr th:only-of-type {\n",
       "        vertical-align: middle;\n",
       "    }\n",
       "\n",
       "    .dataframe tbody tr th {\n",
       "        vertical-align: top;\n",
       "    }\n",
       "\n",
       "    .dataframe thead th {\n",
       "        text-align: right;\n",
       "    }\n",
       "</style>\n",
       "<table border=\"1\" class=\"dataframe\">\n",
       "  <thead>\n",
       "    <tr style=\"text-align: right;\">\n",
       "      <th></th>\n",
       "      <th>Accuracy</th>\n",
       "      <th>Specificity</th>\n",
       "      <th>Sensitivity</th>\n",
       "    </tr>\n",
       "  </thead>\n",
       "  <tbody>\n",
       "    <tr>\n",
       "      <th>LR hyperparameter tuning</th>\n",
       "      <td>0.792</td>\n",
       "      <td>0.792</td>\n",
       "      <td>0.792</td>\n",
       "    </tr>\n",
       "  </tbody>\n",
       "</table>\n",
       "</div>"
      ],
      "text/plain": [
       "                          Accuracy  Specificity  Sensitivity\n",
       "LR hyperparameter tuning     0.792        0.792        0.792"
      ]
     },
     "execution_count": 34,
     "metadata": {},
     "output_type": "execute_result"
    }
   ],
   "source": [
    "accuracy_score_hyp = accuracy_score(y_test, y_predc_hyp)\n",
    "tn, fp, fn, tp = confusion_matrix(y_test, y_predc_hyp).ravel()\n",
    "specificity_hyp = tn / (tn + fp)\n",
    "sensitivity_hyp = tp / (tp + fn)\n",
    "\n",
    "hyp_table_test = pd.DataFrame({'Accuracy':accuracy_score_hyp.round(3),\n",
    "                                'Specificity':specificity_hyp.round(3),\n",
    "                                'Sensitivity':sensitivity_hyp.round(3)}, index=['LR hyperparameter tuning'])\n",
    "hyp_table_test"
   ]
  },
  {
   "cell_type": "markdown",
   "metadata": {
    "id": "M1auSM4J83PG"
   },
   "source": [
    "### **Creating summary table**"
   ]
  },
  {
   "cell_type": "code",
   "execution_count": 35,
   "metadata": {
    "colab": {
     "base_uri": "https://localhost:8080/",
     "height": 177
    },
    "id": "E4-m78bu83PG",
    "outputId": "eaa9fa9b-e37e-4530-f877-8aac9df7db1b"
   },
   "outputs": [
    {
     "data": {
      "text/html": [
       "<div>\n",
       "<style scoped>\n",
       "    .dataframe tbody tr th:only-of-type {\n",
       "        vertical-align: middle;\n",
       "    }\n",
       "\n",
       "    .dataframe tbody tr th {\n",
       "        vertical-align: top;\n",
       "    }\n",
       "\n",
       "    .dataframe thead tr th {\n",
       "        text-align: left;\n",
       "    }\n",
       "</style>\n",
       "<table border=\"1\" class=\"dataframe\">\n",
       "  <thead>\n",
       "    <tr>\n",
       "      <th></th>\n",
       "      <th colspan=\"3\" halign=\"left\">Train</th>\n",
       "      <th colspan=\"3\" halign=\"left\">Test</th>\n",
       "    </tr>\n",
       "    <tr>\n",
       "      <th></th>\n",
       "      <th>Accuracy</th>\n",
       "      <th>Specificity</th>\n",
       "      <th>Sensitivity</th>\n",
       "      <th>Accuracy</th>\n",
       "      <th>Specificity</th>\n",
       "      <th>Sensitivity</th>\n",
       "    </tr>\n",
       "  </thead>\n",
       "  <tbody>\n",
       "    <tr>\n",
       "      <th>LR hyperparameter tuning</th>\n",
       "      <td>0.795</td>\n",
       "      <td>0.812</td>\n",
       "      <td>0.763</td>\n",
       "      <td>0.792</td>\n",
       "      <td>0.792</td>\n",
       "      <td>0.792</td>\n",
       "    </tr>\n",
       "  </tbody>\n",
       "</table>\n",
       "</div>"
      ],
      "text/plain": [
       "                            Train                             Test  \\\n",
       "                         Accuracy Specificity Sensitivity Accuracy   \n",
       "LR hyperparameter tuning    0.795       0.812       0.763    0.792   \n",
       "\n",
       "                                                  \n",
       "                         Specificity Sensitivity  \n",
       "LR hyperparameter tuning       0.792       0.792  "
      ]
     },
     "execution_count": 35,
     "metadata": {},
     "output_type": "execute_result"
    }
   ],
   "source": [
    "hyp_summary_table = hyp_table_train.merge(hyp_table_test, how='outer', left_index=True, right_index=True)\n",
    "hyp_summary_table.columns = columns\n",
    "hyp_summary_table"
   ]
  },
  {
   "cell_type": "markdown",
   "metadata": {
    "id": "TBrLUZpSC8TO"
   },
   "source": [
    "# **Decision Tree Model**"
   ]
  },
  {
   "cell_type": "code",
   "execution_count": 36,
   "metadata": {
    "colab": {
     "base_uri": "https://localhost:8080/",
     "height": 17
    },
    "id": "6URhI6qHDGB5",
    "outputId": "e79bd385-72ad-48ff-dcaa-64a9e2a1ca17"
   },
   "outputs": [],
   "source": [
    "from sklearn.tree import DecisionTreeClassifier\n",
    "with warnings.catch_warnings(record=True):\n",
    "    model_tree = DecisionTreeClassifier()\n",
    "    model_tree.fit(X_train, y_train)\n",
    "    y_predc_tree = model_tree.predict(X_test)"
   ]
  },
  {
   "cell_type": "markdown",
   "metadata": {
    "id": "dPvURZUlY80K"
   },
   "source": [
    "## **Evaluating results for Decision Tree**"
   ]
  },
  {
   "cell_type": "code",
   "execution_count": 37,
   "metadata": {
    "colab": {
     "base_uri": "https://localhost:8080/",
     "height": 408
    },
    "id": "PnjRBR0FY80L",
    "outputId": "6e750f32-8d6e-427e-f238-089219e87907"
   },
   "outputs": [
    {
     "data": {
      "image/png": "[encoded data removed]",
      "text/plain": [
       "<Figure size 800x300 with 4 Axes>"
      ]
     },
     "metadata": {},
     "output_type": "display_data"
    }
   ],
   "source": [
    "cm_tree = confusion_matrix(y_test, y_predc_tree)\n",
    "\n",
    "fig, ax = plt.subplots(1, 2, figsize=(8,3))\n",
    "\n",
    "sns.heatmap(cm_tree, annot=True, fmt='d', cmap='Blues', \n",
    "            xticklabels=['Predicted 0', 'Predicted 1'],\n",
    "            yticklabels=['Actual 0', 'Actual 1'],cbar=True, \n",
    "            ax=ax[0])\n",
    "\n",
    "sns.heatmap(cm_tree/np.sum(cm_tree), annot=True, fmt='.2f', cmap='Blues', \n",
    "            xticklabels=['Predicted 0', 'Predicted 1'],\n",
    "            yticklabels=['Actual 0', 'Actual 1'],cbar=True, \n",
    "            ax=ax[1])\n",
    "\n",
    "plt.show()"
   ]
  },
  {
   "cell_type": "markdown",
   "metadata": {
    "id": "NBGrVhrXY80M"
   },
   "source": [
    "### **Evaluating results for Train set and Cross Validation**"
   ]
  },
  {
   "cell_type": "code",
   "execution_count": 38,
   "metadata": {
    "colab": {
     "base_uri": "https://localhost:8080/",
     "height": 69
    },
    "id": "ezeO-EegY80N",
    "outputId": "b6e78262-1d38-4416-d31f-d1963442dada"
   },
   "outputs": [
    {
     "name": "stdout",
     "output_type": "stream",
     "text": [
      "\n",
      "Cross validation accuracy score: 0.84\n",
      "Standard Deviation: 0.05\n"
     ]
    }
   ],
   "source": [
    "accuracies_tree = cross_val_score(model_tree, X_train, y_train, cv = 10)\n",
    "print(\"\\nCross validation accuracy score: {:.2f}\".format(accuracies_tree.mean()))\n",
    "print(\"Standard Deviation: {:.2f}\".format(accuracies_tree.std()))"
   ]
  },
  {
   "cell_type": "code",
   "execution_count": 39,
   "metadata": {
    "colab": {
     "base_uri": "https://localhost:8080/",
     "height": 108
    },
    "id": "JZjE4CkgY80O",
    "outputId": "caa6bec9-e573-4f1b-ab9b-9b46ecdf5359"
   },
   "outputs": [
    {
     "data": {
      "text/html": [
       "<div>\n",
       "<style scoped>\n",
       "    .dataframe tbody tr th:only-of-type {\n",
       "        vertical-align: middle;\n",
       "    }\n",
       "\n",
       "    .dataframe tbody tr th {\n",
       "        vertical-align: top;\n",
       "    }\n",
       "\n",
       "    .dataframe thead th {\n",
       "        text-align: right;\n",
       "    }\n",
       "</style>\n",
       "<table border=\"1\" class=\"dataframe\">\n",
       "  <thead>\n",
       "    <tr style=\"text-align: right;\">\n",
       "      <th></th>\n",
       "      <th>Accuracy</th>\n",
       "      <th>Specificity</th>\n",
       "      <th>Sensitivity</th>\n",
       "    </tr>\n",
       "  </thead>\n",
       "  <tbody>\n",
       "    <tr>\n",
       "      <th>Decision Tree</th>\n",
       "      <td>1.0</td>\n",
       "      <td>1.0</td>\n",
       "      <td>1.0</td>\n",
       "    </tr>\n",
       "  </tbody>\n",
       "</table>\n",
       "</div>"
      ],
      "text/plain": [
       "               Accuracy  Specificity  Sensitivity\n",
       "Decision Tree       1.0          1.0          1.0"
      ]
     },
     "execution_count": 39,
     "metadata": {},
     "output_type": "execute_result"
    }
   ],
   "source": [
    "accuracy_score_tree = accuracy_score(y_train, model_tree.predict(X_train))\n",
    "tn, fp, fn, tp = confusion_matrix(y_train, model_tree.predict(X_train)).ravel()\n",
    "specificity_tree = tn / (tn + fp)\n",
    "sensitivity_tree = tp / (tp + fn)\n",
    "\n",
    "tree_table_train = pd.DataFrame({'Accuracy':accuracy_score_tree.round(3),\n",
    "                                'Specificity':specificity_tree.round(3),\n",
    "                                'Sensitivity':sensitivity_tree.round(3)}, index=['Decision Tree'])\n",
    "tree_table_train"
   ]
  },
  {
   "cell_type": "markdown",
   "metadata": {
    "id": "nysBZDtBY80O"
   },
   "source": [
    "### **Evaluating results for Test set**"
   ]
  },
  {
   "cell_type": "code",
   "execution_count": 40,
   "metadata": {
    "colab": {
     "base_uri": "https://localhost:8080/",
     "height": 327
    },
    "id": "J_sJU9NfY80P",
    "outputId": "05d3708c-ca90-454e-9591-d132a0d260f7"
   },
   "outputs": [
    {
     "name": "stdout",
     "output_type": "stream",
     "text": [
      "              precision    recall  f1-score   support\n",
      "\n",
      "           0       0.88      0.86      0.87       101\n",
      "           1       0.75      0.77      0.76        53\n",
      "\n",
      "    accuracy                           0.83       154\n",
      "   macro avg       0.81      0.82      0.81       154\n",
      "weighted avg       0.83      0.83      0.83       154\n",
      "\n"
     ]
    }
   ],
   "source": [
    "classification_report_tree = classification_report(y_test, y_predc_tree)\n",
    "\n",
    "print(classification_report_tree)"
   ]
  },
  {
   "cell_type": "code",
   "execution_count": 41,
   "metadata": {
    "colab": {
     "base_uri": "https://localhost:8080/",
     "height": 108
    },
    "id": "fvpeMgrsY80P",
    "outputId": "a335ad37-2ab1-4fa8-d7d8-0b69cca44fd7"
   },
   "outputs": [
    {
     "data": {
      "text/html": [
       "<div>\n",
       "<style scoped>\n",
       "    .dataframe tbody tr th:only-of-type {\n",
       "        vertical-align: middle;\n",
       "    }\n",
       "\n",
       "    .dataframe tbody tr th {\n",
       "        vertical-align: top;\n",
       "    }\n",
       "\n",
       "    .dataframe thead th {\n",
       "        text-align: right;\n",
       "    }\n",
       "</style>\n",
       "<table border=\"1\" class=\"dataframe\">\n",
       "  <thead>\n",
       "    <tr style=\"text-align: right;\">\n",
       "      <th></th>\n",
       "      <th>Accuracy</th>\n",
       "      <th>Specificity</th>\n",
       "      <th>Sensitivity</th>\n",
       "    </tr>\n",
       "  </thead>\n",
       "  <tbody>\n",
       "    <tr>\n",
       "      <th>Decision Tree</th>\n",
       "      <td>0.831</td>\n",
       "      <td>0.861</td>\n",
       "      <td>0.774</td>\n",
       "    </tr>\n",
       "  </tbody>\n",
       "</table>\n",
       "</div>"
      ],
      "text/plain": [
       "               Accuracy  Specificity  Sensitivity\n",
       "Decision Tree     0.831        0.861        0.774"
      ]
     },
     "execution_count": 41,
     "metadata": {},
     "output_type": "execute_result"
    }
   ],
   "source": [
    "accuracy_score_tree = accuracy_score(y_test, y_predc_tree)\n",
    "tn, fp, fn, tp = confusion_matrix(y_test, y_predc_tree).ravel()\n",
    "specificity_tree = tn / (tn + fp)\n",
    "sensitivity_tree = tp / (tp + fn)\n",
    "\n",
    "tree_table_test = pd.DataFrame({'Accuracy':accuracy_score_tree.round(3),\n",
    "                                'Specificity':specificity_tree.round(3),\n",
    "                                'Sensitivity':sensitivity_tree.round(3)}, index=['Decision Tree'])\n",
    "tree_table_test"
   ]
  },
  {
   "cell_type": "markdown",
   "metadata": {
    "id": "NFr0y-eBY80P"
   },
   "source": [
    "### **Creating summary table**"
   ]
  },
  {
   "cell_type": "code",
   "execution_count": 42,
   "metadata": {
    "colab": {
     "base_uri": "https://localhost:8080/",
     "height": 152
    },
    "id": "P-eyUxuQY80P",
    "outputId": "a9692483-6bc1-4f49-cd60-dbc33891a815"
   },
   "outputs": [
    {
     "data": {
      "text/html": [
       "<div>\n",
       "<style scoped>\n",
       "    .dataframe tbody tr th:only-of-type {\n",
       "        vertical-align: middle;\n",
       "    }\n",
       "\n",
       "    .dataframe tbody tr th {\n",
       "        vertical-align: top;\n",
       "    }\n",
       "\n",
       "    .dataframe thead tr th {\n",
       "        text-align: left;\n",
       "    }\n",
       "</style>\n",
       "<table border=\"1\" class=\"dataframe\">\n",
       "  <thead>\n",
       "    <tr>\n",
       "      <th></th>\n",
       "      <th colspan=\"3\" halign=\"left\">Train</th>\n",
       "      <th colspan=\"3\" halign=\"left\">Test</th>\n",
       "    </tr>\n",
       "    <tr>\n",
       "      <th></th>\n",
       "      <th>Accuracy</th>\n",
       "      <th>Specificity</th>\n",
       "      <th>Sensitivity</th>\n",
       "      <th>Accuracy</th>\n",
       "      <th>Specificity</th>\n",
       "      <th>Sensitivity</th>\n",
       "    </tr>\n",
       "  </thead>\n",
       "  <tbody>\n",
       "    <tr>\n",
       "      <th>Decision Tree</th>\n",
       "      <td>1.0</td>\n",
       "      <td>1.0</td>\n",
       "      <td>1.0</td>\n",
       "      <td>0.831</td>\n",
       "      <td>0.861</td>\n",
       "      <td>0.774</td>\n",
       "    </tr>\n",
       "  </tbody>\n",
       "</table>\n",
       "</div>"
      ],
      "text/plain": [
       "                 Train                             Test              \\\n",
       "              Accuracy Specificity Sensitivity Accuracy Specificity   \n",
       "Decision Tree      1.0         1.0         1.0    0.831       0.861   \n",
       "\n",
       "                           \n",
       "              Sensitivity  \n",
       "Decision Tree       0.774  "
      ]
     },
     "execution_count": 42,
     "metadata": {},
     "output_type": "execute_result"
    }
   ],
   "source": [
    "tree_summary_table = tree_table_train.merge(tree_table_test, how='outer', left_index=True, right_index=True)\n",
    "tree_summary_table.columns = columns\n",
    "tree_summary_table"
   ]
  },
  {
   "cell_type": "code",
   "execution_count": 43,
   "metadata": {
    "colab": {
     "base_uri": "https://localhost:8080/",
     "height": 249
    },
    "id": "JfNbaL61RWGu",
    "outputId": "135cd466-1e04-44e0-e4bc-2a8ea04e53c8"
   },
   "outputs": [
    {
     "data": {
      "text/plain": [
       "Insulin                     0.664544\n",
       "Glucose                     0.076579\n",
       "BMI                         0.072857\n",
       "Age                         0.053097\n",
       "Pregnancies                 0.040756\n",
       "SkinThickness               0.038601\n",
       "DiabetesPedigreeFunction    0.033691\n",
       "BloodPressure               0.019876\n",
       "dtype: float64"
      ]
     },
     "execution_count": 43,
     "metadata": {},
     "output_type": "execute_result"
    }
   ],
   "source": [
    "fe_imp = {}\n",
    "\n",
    "for name, importance in zip( X.columns, model_tree.feature_importances_ ):\n",
    "    fe_imp[name] = importance\n",
    "\n",
    "feature_importances = pd.Series(fe_imp).sort_values(ascending=False)\n",
    "\n",
    "feature_importances"
   ]
  },
  {
   "cell_type": "code",
   "execution_count": 44,
   "metadata": {
    "colab": {
     "base_uri": "https://localhost:8080/",
     "height": 479
    },
    "id": "sEPXaLd9QAm7",
    "outputId": "cc3848ea-1ba3-4436-8668-e5159afdd4e3",
    "scrolled": false
   },
   "outputs": [
    {
     "data": {
      "image/png": "[encoded data removed]",
      "text/plain": [
       "<Figure size 600x400 with 1 Axes>"
      ]
     },
     "metadata": {},
     "output_type": "display_data"
    }
   ],
   "source": [
    "plt.figure(figsize=(6,4))\n",
    "sns.barplot(x=feature_importances.values, \n",
    "            y=feature_importances.index,  \n",
    "            palette='colorblind')\n",
    "\n",
    "plt.xlabel('Importance Score', size=14)\n",
    "plt.ylabel('Features', size=12)\n",
    "plt.title('Feature Importance', size=16)\n",
    "\n",
    "plt.show()"
   ]
  },
  {
   "cell_type": "markdown",
   "metadata": {
    "id": "1RVMSNS_feb0"
   },
   "source": [
    "# **Random Forest Model**"
   ]
  },
  {
   "cell_type": "code",
   "execution_count": 45,
   "metadata": {
    "colab": {
     "base_uri": "https://localhost:8080/",
     "height": 17
    },
    "id": "-KGAvRjXf8A0",
    "outputId": "cd54b52c-3090-4ea2-dde6-5a4627cb551d"
   },
   "outputs": [],
   "source": [
    "from sklearn.ensemble import RandomForestClassifier\n",
    "with warnings.catch_warnings(record=True):\n",
    "    model_forest = RandomForestClassifier(random_state=0)\n",
    "    model_forest.fit(X_train, y_train)\n",
    "    y_predc_forest = model_forest.predict(X_test)"
   ]
  },
  {
   "cell_type": "markdown",
   "metadata": {
    "id": "eQbDkRD6g4x4"
   },
   "source": [
    "## **Evaluating results for Random Forest**"
   ]
  },
  {
   "cell_type": "code",
   "execution_count": 46,
   "metadata": {
    "colab": {
     "base_uri": "https://localhost:8080/",
     "height": 408
    },
    "id": "l2HsPzRsg4yD",
    "outputId": "57d982d0-8f08-4978-a7e8-380d7cfbe413"
   },
   "outputs": [
    {
     "data": {
      "image/png": "[encoded data removed]",
      "text/plain": [
       "<Figure size 800x300 with 4 Axes>"
      ]
     },
     "metadata": {},
     "output_type": "display_data"
    }
   ],
   "source": [
    "cm_forest = confusion_matrix(y_test, y_predc_forest)\n",
    "\n",
    "fig, ax = plt.subplots(1, 2, figsize=(8,3))\n",
    "\n",
    "sns.heatmap(cm_forest, annot=True, fmt='d', cmap='Blues', \n",
    "            xticklabels=['Predicted 0', 'Predicted 1'],\n",
    "            yticklabels=['Actual 0', 'Actual 1'],cbar=True, \n",
    "            ax=ax[0])\n",
    "\n",
    "sns.heatmap(cm_forest/np.sum(cm_forest), annot=True, fmt='.2f', cmap='Blues', \n",
    "            xticklabels=['Predicted 0', 'Predicted 1'],\n",
    "            yticklabels=['Actual 0', 'Actual 1'],cbar=True, \n",
    "            ax=ax[1])\n",
    "\n",
    "plt.show()"
   ]
  },
  {
   "cell_type": "markdown",
   "metadata": {
    "id": "uj6en5JSg4yD"
   },
   "source": [
    "### **Evaluating results for Train set and Cross Validation**"
   ]
  },
  {
   "cell_type": "code",
   "execution_count": 47,
   "metadata": {
    "colab": {
     "base_uri": "https://localhost:8080/",
     "height": 69
    },
    "id": "c3ovgP09g4yE",
    "outputId": "50465206-6254-4e50-e103-d38f1661dc45"
   },
   "outputs": [
    {
     "name": "stdout",
     "output_type": "stream",
     "text": [
      "\n",
      "Cross validation accuracy score: 0.87\n",
      "Standard Deviation: 0.02\n"
     ]
    }
   ],
   "source": [
    "accuracies_forest = cross_val_score(model_forest, X_train, y_train, cv = 10)\n",
    "print(\"\\nCross validation accuracy score: {:.2f}\".format(accuracies_forest.mean()))\n",
    "print(\"Standard Deviation: {:.2f}\".format(accuracies_forest.std()))"
   ]
  },
  {
   "cell_type": "code",
   "execution_count": 48,
   "metadata": {
    "colab": {
     "base_uri": "https://localhost:8080/",
     "height": 108
    },
    "id": "5ndNj0LQg4yE",
    "outputId": "493bca09-c014-49e0-9a18-0e909800e626"
   },
   "outputs": [
    {
     "data": {
      "text/html": [
       "<div>\n",
       "<style scoped>\n",
       "    .dataframe tbody tr th:only-of-type {\n",
       "        vertical-align: middle;\n",
       "    }\n",
       "\n",
       "    .dataframe tbody tr th {\n",
       "        vertical-align: top;\n",
       "    }\n",
       "\n",
       "    .dataframe thead th {\n",
       "        text-align: right;\n",
       "    }\n",
       "</style>\n",
       "<table border=\"1\" class=\"dataframe\">\n",
       "  <thead>\n",
       "    <tr style=\"text-align: right;\">\n",
       "      <th></th>\n",
       "      <th>Accuracy</th>\n",
       "      <th>Specificity</th>\n",
       "      <th>Sensitivity</th>\n",
       "    </tr>\n",
       "  </thead>\n",
       "  <tbody>\n",
       "    <tr>\n",
       "      <th>Random Forest</th>\n",
       "      <td>1.0</td>\n",
       "      <td>1.0</td>\n",
       "      <td>1.0</td>\n",
       "    </tr>\n",
       "  </tbody>\n",
       "</table>\n",
       "</div>"
      ],
      "text/plain": [
       "               Accuracy  Specificity  Sensitivity\n",
       "Random Forest       1.0          1.0          1.0"
      ]
     },
     "execution_count": 48,
     "metadata": {},
     "output_type": "execute_result"
    }
   ],
   "source": [
    "accuracy_score_forest = accuracy_score(y_train, model_forest.predict(X_train))\n",
    "tn, fp, fn, tp = confusion_matrix(y_train, model_forest.predict(X_train)).ravel()\n",
    "specificity_forest = tn / (tn + fp)\n",
    "sensitivity_forest = tp / (tp + fn)\n",
    "\n",
    "forest_table_train = pd.DataFrame({'Accuracy':accuracy_score_forest.round(3),\n",
    "                                'Specificity':specificity_forest.round(3),\n",
    "                                'Sensitivity':sensitivity_forest.round(3)}, index=['Random Forest'])\n",
    "forest_table_train"
   ]
  },
  {
   "cell_type": "markdown",
   "metadata": {
    "id": "z4W_FNJDg4yE"
   },
   "source": [
    "### **Evaluating results for Test set**"
   ]
  },
  {
   "cell_type": "code",
   "execution_count": 49,
   "metadata": {
    "colab": {
     "base_uri": "https://localhost:8080/",
     "height": 327
    },
    "id": "CyUR9q5Yg4yE",
    "outputId": "25882eeb-56fa-4548-db62-12a9cebcfe3e"
   },
   "outputs": [
    {
     "name": "stdout",
     "output_type": "stream",
     "text": [
      "              precision    recall  f1-score   support\n",
      "\n",
      "           0       0.88      0.86      0.87       101\n",
      "           1       0.75      0.77      0.76        53\n",
      "\n",
      "    accuracy                           0.83       154\n",
      "   macro avg       0.81      0.82      0.81       154\n",
      "weighted avg       0.83      0.83      0.83       154\n",
      "\n"
     ]
    }
   ],
   "source": [
    "classification_report_forest = classification_report(y_test, y_predc_tree)\n",
    "\n",
    "print(classification_report_forest)"
   ]
  },
  {
   "cell_type": "code",
   "execution_count": 50,
   "metadata": {
    "colab": {
     "base_uri": "https://localhost:8080/",
     "height": 108
    },
    "id": "4QXZP84ig4yF",
    "outputId": "2c0ef90a-5301-4617-c505-fc3134bff4c3"
   },
   "outputs": [
    {
     "data": {
      "text/html": [
       "<div>\n",
       "<style scoped>\n",
       "    .dataframe tbody tr th:only-of-type {\n",
       "        vertical-align: middle;\n",
       "    }\n",
       "\n",
       "    .dataframe tbody tr th {\n",
       "        vertical-align: top;\n",
       "    }\n",
       "\n",
       "    .dataframe thead th {\n",
       "        text-align: right;\n",
       "    }\n",
       "</style>\n",
       "<table border=\"1\" class=\"dataframe\">\n",
       "  <thead>\n",
       "    <tr style=\"text-align: right;\">\n",
       "      <th></th>\n",
       "      <th>Accuracy</th>\n",
       "      <th>Specificity</th>\n",
       "      <th>Sensitivity</th>\n",
       "    </tr>\n",
       "  </thead>\n",
       "  <tbody>\n",
       "    <tr>\n",
       "      <th>Random Forest</th>\n",
       "      <td>0.883</td>\n",
       "      <td>0.96</td>\n",
       "      <td>0.736</td>\n",
       "    </tr>\n",
       "  </tbody>\n",
       "</table>\n",
       "</div>"
      ],
      "text/plain": [
       "               Accuracy  Specificity  Sensitivity\n",
       "Random Forest     0.883         0.96        0.736"
      ]
     },
     "execution_count": 50,
     "metadata": {},
     "output_type": "execute_result"
    }
   ],
   "source": [
    "accuracy_score_forest = accuracy_score(y_test, y_predc_forest)\n",
    "tn, fp, fn, tp = confusion_matrix(y_test, y_predc_forest).ravel()\n",
    "specificity_forest = tn / (tn + fp)\n",
    "sensitivity_forest = tp / (tp + fn)\n",
    "\n",
    "forest_table_test = pd.DataFrame({'Accuracy':accuracy_score_forest.round(3),\n",
    "                                'Specificity':specificity_forest.round(3),\n",
    "                                'Sensitivity':sensitivity_forest.round(3)}, index=['Random Forest'])\n",
    "forest_table_test"
   ]
  },
  {
   "cell_type": "markdown",
   "metadata": {
    "id": "idKWu71ng4yF"
   },
   "source": [
    "### **Creating summary table**"
   ]
  },
  {
   "cell_type": "code",
   "execution_count": 51,
   "metadata": {
    "colab": {
     "base_uri": "https://localhost:8080/",
     "height": 152
    },
    "id": "PSMPNUF2g4yF",
    "outputId": "e9131760-f35a-4065-db32-7a401716dbfa"
   },
   "outputs": [
    {
     "data": {
      "text/html": [
       "<div>\n",
       "<style scoped>\n",
       "    .dataframe tbody tr th:only-of-type {\n",
       "        vertical-align: middle;\n",
       "    }\n",
       "\n",
       "    .dataframe tbody tr th {\n",
       "        vertical-align: top;\n",
       "    }\n",
       "\n",
       "    .dataframe thead tr th {\n",
       "        text-align: left;\n",
       "    }\n",
       "</style>\n",
       "<table border=\"1\" class=\"dataframe\">\n",
       "  <thead>\n",
       "    <tr>\n",
       "      <th></th>\n",
       "      <th colspan=\"3\" halign=\"left\">Train</th>\n",
       "      <th colspan=\"3\" halign=\"left\">Test</th>\n",
       "    </tr>\n",
       "    <tr>\n",
       "      <th></th>\n",
       "      <th>Accuracy</th>\n",
       "      <th>Specificity</th>\n",
       "      <th>Sensitivity</th>\n",
       "      <th>Accuracy</th>\n",
       "      <th>Specificity</th>\n",
       "      <th>Sensitivity</th>\n",
       "    </tr>\n",
       "  </thead>\n",
       "  <tbody>\n",
       "    <tr>\n",
       "      <th>Random Forest</th>\n",
       "      <td>1.0</td>\n",
       "      <td>1.0</td>\n",
       "      <td>1.0</td>\n",
       "      <td>0.883</td>\n",
       "      <td>0.96</td>\n",
       "      <td>0.736</td>\n",
       "    </tr>\n",
       "  </tbody>\n",
       "</table>\n",
       "</div>"
      ],
      "text/plain": [
       "                 Train                             Test              \\\n",
       "              Accuracy Specificity Sensitivity Accuracy Specificity   \n",
       "Random Forest      1.0         1.0         1.0    0.883        0.96   \n",
       "\n",
       "                           \n",
       "              Sensitivity  \n",
       "Random Forest       0.736  "
      ]
     },
     "execution_count": 51,
     "metadata": {},
     "output_type": "execute_result"
    }
   ],
   "source": [
    "forest_summary_table = forest_table_train.merge(forest_table_test, how='outer', left_index=True, right_index=True)\n",
    "forest_summary_table.columns = columns\n",
    "forest_summary_table"
   ]
  },
  {
   "cell_type": "code",
   "execution_count": 52,
   "metadata": {
    "colab": {
     "base_uri": "https://localhost:8080/",
     "height": 249
    },
    "id": "RWV2ciibg4yF",
    "outputId": "d4a9731f-b193-4408-eb35-9655b6a8cfad"
   },
   "outputs": [
    {
     "data": {
      "text/plain": [
       "Insulin                     0.368923\n",
       "SkinThickness               0.147939\n",
       "Glucose                     0.136734\n",
       "Age                         0.088364\n",
       "BMI                         0.085855\n",
       "DiabetesPedigreeFunction    0.062166\n",
       "Pregnancies                 0.058092\n",
       "BloodPressure               0.051925\n",
       "dtype: float64"
      ]
     },
     "execution_count": 52,
     "metadata": {},
     "output_type": "execute_result"
    }
   ],
   "source": [
    "fe_imp = {}\n",
    "\n",
    "for name, importance in zip( X.columns, model_forest.feature_importances_ ):\n",
    "    fe_imp[name] = importance\n",
    "\n",
    "feature_importances = pd.Series(fe_imp).sort_values(ascending=False)\n",
    "\n",
    "feature_importances"
   ]
  },
  {
   "cell_type": "code",
   "execution_count": 53,
   "metadata": {
    "colab": {
     "base_uri": "https://localhost:8080/",
     "height": 479
    },
    "id": "x3uGLV79g4yF",
    "outputId": "8d9e1e4f-54ac-43f6-c047-d49288d2a08b",
    "scrolled": false
   },
   "outputs": [
    {
     "data": {
      "image/png": "[encoded data removed]",
      "text/plain": [
       "<Figure size 600x400 with 1 Axes>"
      ]
     },
     "metadata": {},
     "output_type": "display_data"
    }
   ],
   "source": [
    "plt.figure(figsize=(6,4))\n",
    "sns.barplot(x=feature_importances.values, \n",
    "            y=feature_importances.index,  \n",
    "            palette='colorblind')\n",
    "\n",
    "plt.xlabel('Importance Score', size=14)\n",
    "plt.ylabel('Features', size=12)\n",
    "plt.title('Feature Importance', size=16)\n",
    "\n",
    "plt.show()"
   ]
  },
  {
   "cell_type": "markdown",
   "metadata": {
    "id": "H36SMZ5E3nMr"
   },
   "source": [
    "# **SVC**"
   ]
  },
  {
   "cell_type": "code",
   "execution_count": 54,
   "metadata": {
    "colab": {
     "base_uri": "https://localhost:8080/",
     "height": 17
    },
    "id": "waj0Ok1u3nMz",
    "outputId": "0c935d3f-37c4-4900-f36f-0d770ded8c1a"
   },
   "outputs": [],
   "source": [
    "from sklearn.svm import SVC\n",
    "with warnings.catch_warnings(record=True):\n",
    "    model_svc = SVC(kernel = 'rbf', random_state = 0)\n",
    "    model_svc.fit(X_train, y_train)\n",
    "    y_predc_svc = model_svc.predict(X_test)"
   ]
  },
  {
   "cell_type": "markdown",
   "metadata": {
    "id": "uDVsoIFZ3nMz"
   },
   "source": [
    "## **Evaluating results for SVC**"
   ]
  },
  {
   "cell_type": "code",
   "execution_count": 55,
   "metadata": {
    "colab": {
     "base_uri": "https://localhost:8080/",
     "height": 408
    },
    "id": "Zh-qDYXA3nM0",
    "outputId": "0137beb1-5c05-4701-9b48-fd727b2a6c5f"
   },
   "outputs": [
    {
     "data": {
      "image/png": "[encoded data removed]",
      "text/plain": [
       "<Figure size 800x300 with 4 Axes>"
      ]
     },
     "metadata": {},
     "output_type": "display_data"
    }
   ],
   "source": [
    "cm_svc = confusion_matrix(y_test, y_predc_svc)\n",
    "\n",
    "fig, ax = plt.subplots(1, 2, figsize=(8,3))\n",
    "\n",
    "sns.heatmap(cm_svc, annot=True, fmt='d', cmap='Blues', \n",
    "            xticklabels=['Predicted 0', 'Predicted 1'],\n",
    "            yticklabels=['Actual 0', 'Actual 1'],cbar=True, \n",
    "            ax=ax[0])\n",
    "\n",
    "sns.heatmap(cm_svc/np.sum(cm_svc), annot=True, fmt='.2f', cmap='Blues', \n",
    "            xticklabels=['Predicted 0', 'Predicted 1'],\n",
    "            yticklabels=['Actual 0', 'Actual 1'],cbar=True, \n",
    "            ax=ax[1])\n",
    "\n",
    "plt.show()"
   ]
  },
  {
   "cell_type": "markdown",
   "metadata": {
    "id": "UeSwZTa63nM0"
   },
   "source": [
    "### **Evaluating results for Train set and Cross Validation**"
   ]
  },
  {
   "cell_type": "code",
   "execution_count": 56,
   "metadata": {
    "colab": {
     "base_uri": "https://localhost:8080/",
     "height": 94
    },
    "id": "XOaaZjJW3nM0",
    "outputId": "96e8db5e-8c62-4f28-c509-e5f809d77970"
   },
   "outputs": [
    {
     "name": "stdout",
     "output_type": "stream",
     "text": [
      "\n",
      "Cross validation accuracy score: 0.83\n",
      "Standard Deviation: 0.03\n"
     ]
    }
   ],
   "source": [
    "accuracies_svc = cross_val_score(model_svc, X_train, y_train, cv = 10)\n",
    "print(\"\\nCross validation accuracy score: {:.2f}\".format(accuracies_svc.mean()))\n",
    "print(\"Standard Deviation: {:.2f}\".format(accuracies_svc.std()))"
   ]
  },
  {
   "cell_type": "code",
   "execution_count": 57,
   "metadata": {
    "colab": {
     "base_uri": "https://localhost:8080/",
     "height": 108
    },
    "id": "JnqgpUID3nM0",
    "outputId": "23d7c91b-97ba-4014-a37e-f68b2904a17f"
   },
   "outputs": [
    {
     "data": {
      "text/html": [
       "<div>\n",
       "<style scoped>\n",
       "    .dataframe tbody tr th:only-of-type {\n",
       "        vertical-align: middle;\n",
       "    }\n",
       "\n",
       "    .dataframe tbody tr th {\n",
       "        vertical-align: top;\n",
       "    }\n",
       "\n",
       "    .dataframe thead th {\n",
       "        text-align: right;\n",
       "    }\n",
       "</style>\n",
       "<table border=\"1\" class=\"dataframe\">\n",
       "  <thead>\n",
       "    <tr style=\"text-align: right;\">\n",
       "      <th></th>\n",
       "      <th>Accuracy</th>\n",
       "      <th>Specificity</th>\n",
       "      <th>Sensitivity</th>\n",
       "    </tr>\n",
       "  </thead>\n",
       "  <tbody>\n",
       "    <tr>\n",
       "      <th>SVC</th>\n",
       "      <td>0.893</td>\n",
       "      <td>0.932</td>\n",
       "      <td>0.819</td>\n",
       "    </tr>\n",
       "  </tbody>\n",
       "</table>\n",
       "</div>"
      ],
      "text/plain": [
       "     Accuracy  Specificity  Sensitivity\n",
       "SVC     0.893        0.932        0.819"
      ]
     },
     "execution_count": 57,
     "metadata": {},
     "output_type": "execute_result"
    }
   ],
   "source": [
    "accuracy_score_svc = accuracy_score(y_train, model_svc.predict(X_train))\n",
    "tn, fp, fn, tp = confusion_matrix(y_train, model_svc.predict(X_train)).ravel()\n",
    "specificity_svc = tn / (tn + fp)\n",
    "sensitivity_svc = tp / (tp + fn)\n",
    "\n",
    "svc_table_train = pd.DataFrame({'Accuracy':accuracy_score_svc.round(3),\n",
    "                                'Specificity':specificity_svc.round(3),\n",
    "                                'Sensitivity':sensitivity_svc.round(3)}, index=['SVC'])\n",
    "svc_table_train"
   ]
  },
  {
   "cell_type": "markdown",
   "metadata": {
    "id": "4cOoYLuI3nM1"
   },
   "source": [
    "### **Evaluating results for Test set**"
   ]
  },
  {
   "cell_type": "code",
   "execution_count": 58,
   "metadata": {
    "colab": {
     "base_uri": "https://localhost:8080/",
     "height": 327
    },
    "id": "hXrekSua3nM1",
    "outputId": "d3f529ba-ee5f-49b2-ef07-4756edff4f1d"
   },
   "outputs": [
    {
     "name": "stdout",
     "output_type": "stream",
     "text": [
      "              precision    recall  f1-score   support\n",
      "\n",
      "           0       0.84      0.89      0.87       101\n",
      "           1       0.77      0.68      0.72        53\n",
      "\n",
      "    accuracy                           0.82       154\n",
      "   macro avg       0.80      0.79      0.79       154\n",
      "weighted avg       0.82      0.82      0.82       154\n",
      "\n"
     ]
    }
   ],
   "source": [
    "classification_report_svc = classification_report(y_test, y_predc_svc)\n",
    "\n",
    "print(classification_report_svc)"
   ]
  },
  {
   "cell_type": "code",
   "execution_count": 59,
   "metadata": {
    "colab": {
     "base_uri": "https://localhost:8080/",
     "height": 108
    },
    "id": "_G4K2oI13nM1",
    "outputId": "c996eaf8-8d2e-4de9-e2d3-ede6ecaf9663"
   },
   "outputs": [
    {
     "data": {
      "text/html": [
       "<div>\n",
       "<style scoped>\n",
       "    .dataframe tbody tr th:only-of-type {\n",
       "        vertical-align: middle;\n",
       "    }\n",
       "\n",
       "    .dataframe tbody tr th {\n",
       "        vertical-align: top;\n",
       "    }\n",
       "\n",
       "    .dataframe thead th {\n",
       "        text-align: right;\n",
       "    }\n",
       "</style>\n",
       "<table border=\"1\" class=\"dataframe\">\n",
       "  <thead>\n",
       "    <tr style=\"text-align: right;\">\n",
       "      <th></th>\n",
       "      <th>Accuracy</th>\n",
       "      <th>Specificity</th>\n",
       "      <th>Sensitivity</th>\n",
       "    </tr>\n",
       "  </thead>\n",
       "  <tbody>\n",
       "    <tr>\n",
       "      <th>SVC</th>\n",
       "      <td>0.818</td>\n",
       "      <td>0.891</td>\n",
       "      <td>0.679</td>\n",
       "    </tr>\n",
       "  </tbody>\n",
       "</table>\n",
       "</div>"
      ],
      "text/plain": [
       "     Accuracy  Specificity  Sensitivity\n",
       "SVC     0.818        0.891        0.679"
      ]
     },
     "execution_count": 59,
     "metadata": {},
     "output_type": "execute_result"
    }
   ],
   "source": [
    "accuracy_score_svc = accuracy_score(y_test, y_predc_svc)\n",
    "tn, fp, fn, tp = confusion_matrix(y_test, y_predc_svc).ravel()\n",
    "specificity_svc = tn / (tn + fp)\n",
    "sensitivity_svc = tp / (tp + fn)\n",
    "\n",
    "svc_table_test = pd.DataFrame({'Accuracy':accuracy_score_svc.round(3),\n",
    "                                'Specificity':specificity_svc.round(3),\n",
    "                                'Sensitivity':sensitivity_svc.round(3)}, index=['SVC'])\n",
    "svc_table_test"
   ]
  },
  {
   "cell_type": "markdown",
   "metadata": {
    "id": "8OAI2VbO3nM1"
   },
   "source": [
    "### **Creating summary table**"
   ]
  },
  {
   "cell_type": "code",
   "execution_count": 60,
   "metadata": {
    "colab": {
     "base_uri": "https://localhost:8080/",
     "height": 152
    },
    "id": "BCwvkzkl3nM1",
    "outputId": "0b5998d3-1fa3-4291-dba4-bb5762b6157a"
   },
   "outputs": [
    {
     "data": {
      "text/html": [
       "<div>\n",
       "<style scoped>\n",
       "    .dataframe tbody tr th:only-of-type {\n",
       "        vertical-align: middle;\n",
       "    }\n",
       "\n",
       "    .dataframe tbody tr th {\n",
       "        vertical-align: top;\n",
       "    }\n",
       "\n",
       "    .dataframe thead tr th {\n",
       "        text-align: left;\n",
       "    }\n",
       "</style>\n",
       "<table border=\"1\" class=\"dataframe\">\n",
       "  <thead>\n",
       "    <tr>\n",
       "      <th></th>\n",
       "      <th colspan=\"3\" halign=\"left\">Train</th>\n",
       "      <th colspan=\"3\" halign=\"left\">Test</th>\n",
       "    </tr>\n",
       "    <tr>\n",
       "      <th></th>\n",
       "      <th>Accuracy</th>\n",
       "      <th>Specificity</th>\n",
       "      <th>Sensitivity</th>\n",
       "      <th>Accuracy</th>\n",
       "      <th>Specificity</th>\n",
       "      <th>Sensitivity</th>\n",
       "    </tr>\n",
       "  </thead>\n",
       "  <tbody>\n",
       "    <tr>\n",
       "      <th>SVC</th>\n",
       "      <td>0.893</td>\n",
       "      <td>0.932</td>\n",
       "      <td>0.819</td>\n",
       "      <td>0.818</td>\n",
       "      <td>0.891</td>\n",
       "      <td>0.679</td>\n",
       "    </tr>\n",
       "  </tbody>\n",
       "</table>\n",
       "</div>"
      ],
      "text/plain": [
       "       Train                             Test                        \n",
       "    Accuracy Specificity Sensitivity Accuracy Specificity Sensitivity\n",
       "SVC    0.893       0.932       0.819    0.818       0.891       0.679"
      ]
     },
     "execution_count": 60,
     "metadata": {},
     "output_type": "execute_result"
    }
   ],
   "source": [
    "svc_summary_table = svc_table_train.merge(svc_table_test, how='outer', left_index=True, right_index=True)\n",
    "svc_summary_table.columns = columns\n",
    "svc_summary_table"
   ]
  },
  {
   "cell_type": "markdown",
   "metadata": {
    "id": "IfDWn5dqlfiw"
   },
   "source": [
    "# **XG Boost**"
   ]
  },
  {
   "cell_type": "code",
   "execution_count": 61,
   "metadata": {
    "scrolled": false
   },
   "outputs": [],
   "source": [
    "# !pip install xgboost"
   ]
  },
  {
   "cell_type": "code",
   "execution_count": 62,
   "metadata": {
    "colab": {
     "base_uri": "https://localhost:8080/",
     "height": 17
    },
    "id": "J2RvEzDPlfix",
    "outputId": "c1e386e1-ebe4-419b-e709-a59db9cb6225"
   },
   "outputs": [],
   "source": [
    "import xgboost as xgb\n",
    "with warnings.catch_warnings(record=True):\n",
    "    model_xg = xgb.XGBClassifier()\n",
    "    model_xg.fit(X_train, y_train)\n",
    "    y_predc_xg = model_xg.predict(X_test)"
   ]
  },
  {
   "cell_type": "markdown",
   "metadata": {
    "id": "_hoLp-O4lfix"
   },
   "source": [
    "## **Evaluating results for XGBoost**"
   ]
  },
  {
   "cell_type": "code",
   "execution_count": 63,
   "metadata": {
    "colab": {
     "base_uri": "https://localhost:8080/",
     "height": 408
    },
    "id": "g0Nbhanflfix",
    "outputId": "e788ab5a-f70b-4ef0-9c46-52cee5b853b4"
   },
   "outputs": [
    {
     "data": {
      "image/png": "[encoded data removed]",
      "text/plain": [
       "<Figure size 800x300 with 4 Axes>"
      ]
     },
     "metadata": {},
     "output_type": "display_data"
    }
   ],
   "source": [
    "cm_xg = confusion_matrix(y_test, y_predc_xg)\n",
    "\n",
    "fig, ax = plt.subplots(1, 2, figsize=(8,3))\n",
    "\n",
    "sns.heatmap(cm_xg, annot=True, fmt='d', cmap='Blues', \n",
    "            xticklabels=['Predicted 0', 'Predicted 1'],\n",
    "            yticklabels=['Actual 0', 'Actual 1'],cbar=True, \n",
    "            ax=ax[0])\n",
    "\n",
    "sns.heatmap(cm_xg/np.sum(cm_xg), annot=True, fmt='.2f', cmap='Blues', \n",
    "            xticklabels=['Predicted 0', 'Predicted 1'],\n",
    "            yticklabels=['Actual 0', 'Actual 1'],cbar=True, \n",
    "            ax=ax[1])\n",
    "\n",
    "plt.show()"
   ]
  },
  {
   "cell_type": "markdown",
   "metadata": {
    "id": "y6P-Z2A9lfix"
   },
   "source": [
    "### **Evaluating results for Train set and Cross Validation**"
   ]
  },
  {
   "cell_type": "code",
   "execution_count": 64,
   "metadata": {
    "colab": {
     "base_uri": "https://localhost:8080/",
     "height": 94
    },
    "id": "M_dNcZMhlfiy",
    "outputId": "e4381f02-4d81-4c28-841c-6b1c8b9262e2"
   },
   "outputs": [
    {
     "name": "stdout",
     "output_type": "stream",
     "text": [
      "\n",
      "Cross validation accuracy score: 0.87\n",
      "Standard Deviation: 0.03\n"
     ]
    }
   ],
   "source": [
    "accuracies_xg = cross_val_score(model_xg, X_train, y_train, cv = 10)\n",
    "print(\"\\nCross validation accuracy score: {:.2f}\".format(accuracies_xg.mean()))\n",
    "print(\"Standard Deviation: {:.2f}\".format(accuracies_xg.std()))"
   ]
  },
  {
   "cell_type": "code",
   "execution_count": 65,
   "metadata": {
    "colab": {
     "base_uri": "https://localhost:8080/",
     "height": 108
    },
    "id": "mepSuM4flfiy",
    "outputId": "4ea4595d-e647-405f-82f2-5429a0d55342"
   },
   "outputs": [
    {
     "data": {
      "text/html": [
       "<div>\n",
       "<style scoped>\n",
       "    .dataframe tbody tr th:only-of-type {\n",
       "        vertical-align: middle;\n",
       "    }\n",
       "\n",
       "    .dataframe tbody tr th {\n",
       "        vertical-align: top;\n",
       "    }\n",
       "\n",
       "    .dataframe thead th {\n",
       "        text-align: right;\n",
       "    }\n",
       "</style>\n",
       "<table border=\"1\" class=\"dataframe\">\n",
       "  <thead>\n",
       "    <tr style=\"text-align: right;\">\n",
       "      <th></th>\n",
       "      <th>Accuracy</th>\n",
       "      <th>Specificity</th>\n",
       "      <th>Sensitivity</th>\n",
       "    </tr>\n",
       "  </thead>\n",
       "  <tbody>\n",
       "    <tr>\n",
       "      <th>XG Boost</th>\n",
       "      <td>1.0</td>\n",
       "      <td>1.0</td>\n",
       "      <td>1.0</td>\n",
       "    </tr>\n",
       "  </tbody>\n",
       "</table>\n",
       "</div>"
      ],
      "text/plain": [
       "          Accuracy  Specificity  Sensitivity\n",
       "XG Boost       1.0          1.0          1.0"
      ]
     },
     "execution_count": 65,
     "metadata": {},
     "output_type": "execute_result"
    }
   ],
   "source": [
    "accuracy_score_xg = accuracy_score(y_train, model_xg.predict(X_train))\n",
    "tp, fn, fp, tn = confusion_matrix(y_train, model_xg.predict(X_train)).ravel()\n",
    "specificity_xg = tn / (tn + fp)\n",
    "sensitivity_xg = tp / (tp + fn)\n",
    "\n",
    "xg_table_train = pd.DataFrame({'Accuracy':accuracy_score_xg.round(3),\n",
    "                                'Specificity':specificity_xg.round(3),\n",
    "                                'Sensitivity':sensitivity_xg.round(3)}, index=['XG Boost'])\n",
    "xg_table_train"
   ]
  },
  {
   "cell_type": "markdown",
   "metadata": {
    "id": "jnCSDWWulfiy"
   },
   "source": [
    "### **Evaluating results for Test set**"
   ]
  },
  {
   "cell_type": "code",
   "execution_count": 66,
   "metadata": {
    "colab": {
     "base_uri": "https://localhost:8080/",
     "height": 327
    },
    "id": "317UrYEzlfiy",
    "outputId": "d203715a-11fc-4e88-a0bd-5f685b33b04b"
   },
   "outputs": [
    {
     "name": "stdout",
     "output_type": "stream",
     "text": [
      "              precision    recall  f1-score   support\n",
      "\n",
      "           0       0.90      0.94      0.92       101\n",
      "           1       0.88      0.79      0.83        53\n",
      "\n",
      "    accuracy                           0.89       154\n",
      "   macro avg       0.89      0.87      0.87       154\n",
      "weighted avg       0.89      0.89      0.89       154\n",
      "\n"
     ]
    }
   ],
   "source": [
    "classification_report_xg = classification_report(y_test, y_predc_xg)\n",
    "\n",
    "print(classification_report_xg)"
   ]
  },
  {
   "cell_type": "code",
   "execution_count": 67,
   "metadata": {
    "colab": {
     "base_uri": "https://localhost:8080/",
     "height": 108
    },
    "id": "XbTWTHY6lfiy",
    "outputId": "010b43de-395e-4133-dfaa-22a15e9fb408"
   },
   "outputs": [
    {
     "data": {
      "text/html": [
       "<div>\n",
       "<style scoped>\n",
       "    .dataframe tbody tr th:only-of-type {\n",
       "        vertical-align: middle;\n",
       "    }\n",
       "\n",
       "    .dataframe tbody tr th {\n",
       "        vertical-align: top;\n",
       "    }\n",
       "\n",
       "    .dataframe thead th {\n",
       "        text-align: right;\n",
       "    }\n",
       "</style>\n",
       "<table border=\"1\" class=\"dataframe\">\n",
       "  <thead>\n",
       "    <tr style=\"text-align: right;\">\n",
       "      <th></th>\n",
       "      <th>Accuracy</th>\n",
       "      <th>Specificity</th>\n",
       "      <th>Sensitivity</th>\n",
       "    </tr>\n",
       "  </thead>\n",
       "  <tbody>\n",
       "    <tr>\n",
       "      <th>XG Boost</th>\n",
       "      <td>0.89</td>\n",
       "      <td>0.941</td>\n",
       "      <td>0.792</td>\n",
       "    </tr>\n",
       "  </tbody>\n",
       "</table>\n",
       "</div>"
      ],
      "text/plain": [
       "          Accuracy  Specificity  Sensitivity\n",
       "XG Boost      0.89        0.941        0.792"
      ]
     },
     "execution_count": 67,
     "metadata": {},
     "output_type": "execute_result"
    }
   ],
   "source": [
    "accuracy_score_xg = accuracy_score(y_test, y_predc_xg)\n",
    "tn, fp, fn, tp = confusion_matrix(y_test, y_predc_xg).ravel()\n",
    "specificity_xg = tn / (tn + fp)\n",
    "sensitivity_xg = tp / (tp + fn)\n",
    "\n",
    "xg_table_test = pd.DataFrame({'Accuracy':accuracy_score_xg.round(3),\n",
    "                                'Specificity':specificity_xg.round(3),\n",
    "                                'Sensitivity':sensitivity_xg.round(3)}, index=['XG Boost'])\n",
    "xg_table_test"
   ]
  },
  {
   "cell_type": "markdown",
   "metadata": {
    "id": "ob6kRumTlfiy"
   },
   "source": [
    "### **Creating summary table**"
   ]
  },
  {
   "cell_type": "code",
   "execution_count": 68,
   "metadata": {
    "colab": {
     "base_uri": "https://localhost:8080/",
     "height": 152
    },
    "id": "BGXuHW_Dlfiz",
    "outputId": "fbeb59de-423f-4998-c8c0-7bd6db878c8f"
   },
   "outputs": [
    {
     "data": {
      "text/html": [
       "<div>\n",
       "<style scoped>\n",
       "    .dataframe tbody tr th:only-of-type {\n",
       "        vertical-align: middle;\n",
       "    }\n",
       "\n",
       "    .dataframe tbody tr th {\n",
       "        vertical-align: top;\n",
       "    }\n",
       "\n",
       "    .dataframe thead tr th {\n",
       "        text-align: left;\n",
       "    }\n",
       "</style>\n",
       "<table border=\"1\" class=\"dataframe\">\n",
       "  <thead>\n",
       "    <tr>\n",
       "      <th></th>\n",
       "      <th colspan=\"3\" halign=\"left\">Train</th>\n",
       "      <th colspan=\"3\" halign=\"left\">Test</th>\n",
       "    </tr>\n",
       "    <tr>\n",
       "      <th></th>\n",
       "      <th>Accuracy</th>\n",
       "      <th>Specificity</th>\n",
       "      <th>Sensitivity</th>\n",
       "      <th>Accuracy</th>\n",
       "      <th>Specificity</th>\n",
       "      <th>Sensitivity</th>\n",
       "    </tr>\n",
       "  </thead>\n",
       "  <tbody>\n",
       "    <tr>\n",
       "      <th>XG Boost</th>\n",
       "      <td>1.0</td>\n",
       "      <td>1.0</td>\n",
       "      <td>1.0</td>\n",
       "      <td>0.89</td>\n",
       "      <td>0.941</td>\n",
       "      <td>0.792</td>\n",
       "    </tr>\n",
       "  </tbody>\n",
       "</table>\n",
       "</div>"
      ],
      "text/plain": [
       "            Train                             Test                        \n",
       "         Accuracy Specificity Sensitivity Accuracy Specificity Sensitivity\n",
       "XG Boost      1.0         1.0         1.0     0.89       0.941       0.792"
      ]
     },
     "execution_count": 68,
     "metadata": {},
     "output_type": "execute_result"
    }
   ],
   "source": [
    "xg_summary_table = xg_table_train.merge(xg_table_test, how='outer', left_index=True, right_index=True)\n",
    "xg_summary_table.columns = columns\n",
    "xg_summary_table"
   ]
  },
  {
   "cell_type": "code",
   "execution_count": 69,
   "metadata": {
    "colab": {
     "base_uri": "https://localhost:8080/",
     "height": 479
    },
    "id": "Fx5izonlyubH",
    "outputId": "e9f3c4f5-924f-4459-8352-733a1a9469c4",
    "scrolled": false
   },
   "outputs": [
    {
     "data": {
      "image/png": "[encoded data removed]",
      "text/plain": [
       "<Figure size 600x400 with 1 Axes>"
      ]
     },
     "metadata": {},
     "output_type": "display_data"
    }
   ],
   "source": [
    "coef = model_xg.feature_importances_\n",
    "indx = list(X.columns)\n",
    "feat_ser = pd.Series(coef, index=indx)\n",
    "feat_ser = feat_ser.sort_values(ascending=False)\n",
    "\n",
    "plt.figure(figsize=(6,4))\n",
    "sns.barplot(x=feat_ser.values, \n",
    "            y=feat_ser.index, \n",
    "            palette='colorblind',)\n",
    "\n",
    "plt.xlabel('Importance Score', size=14)\n",
    "plt.ylabel('Features', size=12)\n",
    "plt.title('Feature Importance', size=16)\n",
    "\n",
    "plt.show()"
   ]
  },
  {
   "cell_type": "markdown",
   "metadata": {
    "id": "Jp-K14F1om1-"
   },
   "source": [
    "# **Summing up the results for model comparison**"
   ]
  },
  {
   "cell_type": "code",
   "execution_count": 70,
   "metadata": {
    "colab": {
     "base_uri": "https://localhost:8080/",
     "height": 401
    },
    "id": "aRQbxCW5owQx",
    "outputId": "9cbdcd6d-124c-4d25-986e-a0a130f4de51"
   },
   "outputs": [
    {
     "data": {
      "text/html": [
       "<div>\n",
       "<style scoped>\n",
       "    .dataframe tbody tr th:only-of-type {\n",
       "        vertical-align: middle;\n",
       "    }\n",
       "\n",
       "    .dataframe tbody tr th {\n",
       "        vertical-align: top;\n",
       "    }\n",
       "\n",
       "    .dataframe thead tr th {\n",
       "        text-align: left;\n",
       "    }\n",
       "</style>\n",
       "<table border=\"1\" class=\"dataframe\">\n",
       "  <thead>\n",
       "    <tr>\n",
       "      <th></th>\n",
       "      <th colspan=\"3\" halign=\"left\">Train</th>\n",
       "      <th colspan=\"3\" halign=\"left\">Test</th>\n",
       "    </tr>\n",
       "    <tr>\n",
       "      <th></th>\n",
       "      <th>Accuracy</th>\n",
       "      <th>Specificity</th>\n",
       "      <th>Sensitivity</th>\n",
       "      <th>Accuracy</th>\n",
       "      <th>Specificity</th>\n",
       "      <th>Sensitivity</th>\n",
       "    </tr>\n",
       "  </thead>\n",
       "  <tbody>\n",
       "    <tr>\n",
       "      <th>Logistic Regression</th>\n",
       "      <td>0.785</td>\n",
       "      <td>0.877</td>\n",
       "      <td>0.614</td>\n",
       "      <td>0.721</td>\n",
       "      <td>0.842</td>\n",
       "      <td>0.491</td>\n",
       "    </tr>\n",
       "    <tr>\n",
       "      <th>LR hyperparameter tuning</th>\n",
       "      <td>0.795</td>\n",
       "      <td>0.812</td>\n",
       "      <td>0.763</td>\n",
       "      <td>0.792</td>\n",
       "      <td>0.792</td>\n",
       "      <td>0.792</td>\n",
       "    </tr>\n",
       "    <tr>\n",
       "      <th>Decision Tree</th>\n",
       "      <td>1.000</td>\n",
       "      <td>1.000</td>\n",
       "      <td>1.000</td>\n",
       "      <td>0.831</td>\n",
       "      <td>0.861</td>\n",
       "      <td>0.774</td>\n",
       "    </tr>\n",
       "    <tr>\n",
       "      <th>Random Forest</th>\n",
       "      <td>1.000</td>\n",
       "      <td>1.000</td>\n",
       "      <td>1.000</td>\n",
       "      <td>0.883</td>\n",
       "      <td>0.960</td>\n",
       "      <td>0.736</td>\n",
       "    </tr>\n",
       "    <tr>\n",
       "      <th>SVC</th>\n",
       "      <td>0.893</td>\n",
       "      <td>0.932</td>\n",
       "      <td>0.819</td>\n",
       "      <td>0.818</td>\n",
       "      <td>0.891</td>\n",
       "      <td>0.679</td>\n",
       "    </tr>\n",
       "    <tr>\n",
       "      <th>XG Boost</th>\n",
       "      <td>1.000</td>\n",
       "      <td>1.000</td>\n",
       "      <td>1.000</td>\n",
       "      <td>0.890</td>\n",
       "      <td>0.941</td>\n",
       "      <td>0.792</td>\n",
       "    </tr>\n",
       "  </tbody>\n",
       "</table>\n",
       "</div>"
      ],
      "text/plain": [
       "                            Train                             Test  \\\n",
       "                         Accuracy Specificity Sensitivity Accuracy   \n",
       "Logistic Regression         0.785       0.877       0.614    0.721   \n",
       "LR hyperparameter tuning    0.795       0.812       0.763    0.792   \n",
       "Decision Tree               1.000       1.000       1.000    0.831   \n",
       "Random Forest               1.000       1.000       1.000    0.883   \n",
       "SVC                         0.893       0.932       0.819    0.818   \n",
       "XG Boost                    1.000       1.000       1.000    0.890   \n",
       "\n",
       "                                                  \n",
       "                         Specificity Sensitivity  \n",
       "Logistic Regression            0.842       0.491  \n",
       "LR hyperparameter tuning       0.792       0.792  \n",
       "Decision Tree                  0.861       0.774  \n",
       "Random Forest                  0.960       0.736  \n",
       "SVC                            0.891       0.679  \n",
       "XG Boost                       0.941       0.792  "
      ]
     },
     "execution_count": 70,
     "metadata": {},
     "output_type": "execute_result"
    }
   ],
   "source": [
    "summary_table = pd.concat([log_summary_table, hyp_summary_table, tree_summary_table, forest_summary_table, svc_summary_table, xg_summary_table])\n",
    "\n",
    "summary_table"
   ]
  },
  {
   "cell_type": "code",
   "execution_count": 71,
   "metadata": {
    "colab": {
     "base_uri": "https://localhost:8080/",
     "height": 332
    },
    "id": "d17p4xBHpZgw",
    "outputId": "b33f691f-636f-4fa5-8485-bfd8290bc77e"
   },
   "outputs": [
    {
     "data": {
      "text/html": [
       "<div>\n",
       "<style scoped>\n",
       "    .dataframe tbody tr th:only-of-type {\n",
       "        vertical-align: middle;\n",
       "    }\n",
       "\n",
       "    .dataframe tbody tr th {\n",
       "        vertical-align: top;\n",
       "    }\n",
       "\n",
       "    .dataframe thead th {\n",
       "        text-align: right;\n",
       "    }\n",
       "</style>\n",
       "<table border=\"1\" class=\"dataframe\">\n",
       "  <thead>\n",
       "    <tr style=\"text-align: right;\">\n",
       "      <th></th>\n",
       "      <th>Accuracy</th>\n",
       "      <th>Specificity</th>\n",
       "      <th>Sensitivity</th>\n",
       "      <th>f1_score</th>\n",
       "    </tr>\n",
       "  </thead>\n",
       "  <tbody>\n",
       "    <tr>\n",
       "      <th>Logistic Regression</th>\n",
       "      <td>0.721</td>\n",
       "      <td>0.842</td>\n",
       "      <td>0.491</td>\n",
       "      <td>0.547</td>\n",
       "    </tr>\n",
       "    <tr>\n",
       "      <th>LR hyperparameter tuning</th>\n",
       "      <td>0.792</td>\n",
       "      <td>0.792</td>\n",
       "      <td>0.792</td>\n",
       "      <td>0.724</td>\n",
       "    </tr>\n",
       "    <tr>\n",
       "      <th>Decision Tree</th>\n",
       "      <td>0.831</td>\n",
       "      <td>0.861</td>\n",
       "      <td>0.774</td>\n",
       "      <td>0.759</td>\n",
       "    </tr>\n",
       "    <tr>\n",
       "      <th>Random Forest</th>\n",
       "      <td>0.883</td>\n",
       "      <td>0.960</td>\n",
       "      <td>0.736</td>\n",
       "      <td>0.812</td>\n",
       "    </tr>\n",
       "    <tr>\n",
       "      <th>SVC</th>\n",
       "      <td>0.818</td>\n",
       "      <td>0.891</td>\n",
       "      <td>0.679</td>\n",
       "      <td>0.720</td>\n",
       "    </tr>\n",
       "    <tr>\n",
       "      <th>XG Boost</th>\n",
       "      <td>0.890</td>\n",
       "      <td>0.941</td>\n",
       "      <td>0.792</td>\n",
       "      <td>0.832</td>\n",
       "    </tr>\n",
       "  </tbody>\n",
       "</table>\n",
       "</div>"
      ],
      "text/plain": [
       "                          Accuracy  Specificity  Sensitivity  f1_score\n",
       "Logistic Regression          0.721        0.842        0.491     0.547\n",
       "LR hyperparameter tuning     0.792        0.792        0.792     0.724\n",
       "Decision Tree                0.831        0.861        0.774     0.759\n",
       "Random Forest                0.883        0.960        0.736     0.812\n",
       "SVC                          0.818        0.891        0.679     0.720\n",
       "XG Boost                     0.890        0.941        0.792     0.832"
      ]
     },
     "execution_count": 71,
     "metadata": {},
     "output_type": "execute_result"
    }
   ],
   "source": [
    "f1_scores = pd.Series([f1_score(y_test, y_predc_log),\n",
    "                       f1_score(y_test, y_predc_hyp),\n",
    "                       f1_score(y_test, y_predc_tree),\n",
    "                       f1_score(y_test, y_predc_forest),\n",
    "                       f1_score(y_test, y_predc_svc),\n",
    "                       f1_score(y_test, y_predc_xg)], index=summary_table.index, name='f1_score')\n",
    "\n",
    "summary = pd.concat([summary_table['Test'], f1_scores.round(3)], axis=1)\n",
    "\n",
    "summary"
   ]
  },
  {
   "cell_type": "code",
   "execution_count": 72,
   "metadata": {},
   "outputs": [
    {
     "data": {
      "image/png": "[encoded data removed]",
      "text/plain": [
       "<Figure size 1000x600 with 4 Axes>"
      ]
     },
     "metadata": {},
     "output_type": "display_data"
    }
   ],
   "source": [
    "a = summary['Accuracy'].sort_values(ascending=False)\n",
    "b = summary['Specificity'].sort_values(ascending=False)\n",
    "c = summary['Sensitivity'].sort_values(ascending=False)\n",
    "d = summary['f1_score'].sort_values(ascending=False)\n",
    "\n",
    "fig, ax=plt.subplots(2,2, figsize=(10,6))\n",
    "sns.barplot(y = a.index, x = a, palette='colorblind', ax=ax[0,0]);\n",
    "sns.barplot(y = b.index, x = b, palette='colorblind', ax=ax[0,1])\n",
    "sns.barplot(y = c.index, x = c, palette='colorblind', ax=ax[1,0])\n",
    "sns.barplot(y = d.index, x = d, palette='colorblind', ax=ax[1,1])\n",
    "plt.tight_layout()"
   ]
  },
  {
   "cell_type": "markdown",
   "metadata": {
    "id": "kl6Jcm5GASuc"
   },
   "source": [
    "# Making predictions"
   ]
  },
  {
   "cell_type": "code",
   "execution_count": 73,
   "metadata": {},
   "outputs": [
    {
     "data": {
      "text/html": [
       "<div>\n",
       "<style scoped>\n",
       "    .dataframe tbody tr th:only-of-type {\n",
       "        vertical-align: middle;\n",
       "    }\n",
       "\n",
       "    .dataframe tbody tr th {\n",
       "        vertical-align: top;\n",
       "    }\n",
       "\n",
       "    .dataframe thead th {\n",
       "        text-align: right;\n",
       "    }\n",
       "</style>\n",
       "<table border=\"1\" class=\"dataframe\">\n",
       "  <thead>\n",
       "    <tr style=\"text-align: right;\">\n",
       "      <th></th>\n",
       "      <th>Pregnancies</th>\n",
       "      <th>Glucose</th>\n",
       "      <th>BloodPressure</th>\n",
       "      <th>SkinThickness</th>\n",
       "      <th>Insulin</th>\n",
       "      <th>BMI</th>\n",
       "      <th>DiabetesPedigreeFunction</th>\n",
       "      <th>Age</th>\n",
       "    </tr>\n",
       "  </thead>\n",
       "  <tbody>\n",
       "    <tr>\n",
       "      <th>0</th>\n",
       "      <td>5</td>\n",
       "      <td>150</td>\n",
       "      <td>70</td>\n",
       "      <td>33</td>\n",
       "      <td>170</td>\n",
       "      <td>30</td>\n",
       "      <td>0.5</td>\n",
       "      <td>30</td>\n",
       "    </tr>\n",
       "    <tr>\n",
       "      <th>1</th>\n",
       "      <td>6</td>\n",
       "      <td>135</td>\n",
       "      <td>80</td>\n",
       "      <td>35</td>\n",
       "      <td>150</td>\n",
       "      <td>40</td>\n",
       "      <td>0.5</td>\n",
       "      <td>40</td>\n",
       "    </tr>\n",
       "    <tr>\n",
       "      <th>2</th>\n",
       "      <td>5</td>\n",
       "      <td>85</td>\n",
       "      <td>90</td>\n",
       "      <td>40</td>\n",
       "      <td>130</td>\n",
       "      <td>25</td>\n",
       "      <td>1.0</td>\n",
       "      <td>25</td>\n",
       "    </tr>\n",
       "    <tr>\n",
       "      <th>3</th>\n",
       "      <td>3</td>\n",
       "      <td>190</td>\n",
       "      <td>78</td>\n",
       "      <td>25</td>\n",
       "      <td>200</td>\n",
       "      <td>30</td>\n",
       "      <td>0.6</td>\n",
       "      <td>35</td>\n",
       "    </tr>\n",
       "    <tr>\n",
       "      <th>4</th>\n",
       "      <td>8</td>\n",
       "      <td>60</td>\n",
       "      <td>70</td>\n",
       "      <td>27</td>\n",
       "      <td>90</td>\n",
       "      <td>45</td>\n",
       "      <td>2.0</td>\n",
       "      <td>20</td>\n",
       "    </tr>\n",
       "  </tbody>\n",
       "</table>\n",
       "</div>"
      ],
      "text/plain": [
       "   Pregnancies  Glucose  BloodPressure  SkinThickness  Insulin  BMI  \\\n",
       "0            5      150             70             33      170   30   \n",
       "1            6      135             80             35      150   40   \n",
       "2            5       85             90             40      130   25   \n",
       "3            3      190             78             25      200   30   \n",
       "4            8       60             70             27       90   45   \n",
       "\n",
       "   DiabetesPedigreeFunction  Age  \n",
       "0                       0.5   30  \n",
       "1                       0.5   40  \n",
       "2                       1.0   25  \n",
       "3                       0.6   35  \n",
       "4                       2.0   20  "
      ]
     },
     "execution_count": 73,
     "metadata": {},
     "output_type": "execute_result"
    }
   ],
   "source": [
    "sample_data = pd.DataFrame([[5, 150, 70, 33, 170, 30, 0.5, 30],\n",
    "                            [6, 135, 80, 35, 150, 40, 0.5, 40],\n",
    "                            [5, 85, 90, 40, 130, 25, 1, 25],\n",
    "                            [3, 190, 78, 25, 200, 30, 0.6, 35],\n",
    "                            [8, 60, 70, 27, 90, 45, 2, 20]], columns=X.columns)\n",
    "\n",
    "sample_data.head(10)"
   ]
  },
  {
   "cell_type": "code",
   "execution_count": 74,
   "metadata": {},
   "outputs": [],
   "source": [
    "prediction = scaler.transform(sample_data)"
   ]
  },
  {
   "cell_type": "code",
   "execution_count": 75,
   "metadata": {},
   "outputs": [],
   "source": [
    "sample_data['Predictions_xgboost'] = model_xg.predict(prediction)\n",
    "sample_data['Predictions_random_forest'] = model_forest.predict(prediction)"
   ]
  },
  {
   "cell_type": "code",
   "execution_count": 76,
   "metadata": {},
   "outputs": [
    {
     "data": {
      "text/html": [
       "<div>\n",
       "<style scoped>\n",
       "    .dataframe tbody tr th:only-of-type {\n",
       "        vertical-align: middle;\n",
       "    }\n",
       "\n",
       "    .dataframe tbody tr th {\n",
       "        vertical-align: top;\n",
       "    }\n",
       "\n",
       "    .dataframe thead th {\n",
       "        text-align: right;\n",
       "    }\n",
       "</style>\n",
       "<table border=\"1\" class=\"dataframe\">\n",
       "  <thead>\n",
       "    <tr style=\"text-align: right;\">\n",
       "      <th></th>\n",
       "      <th>Pregnancies</th>\n",
       "      <th>Glucose</th>\n",
       "      <th>BloodPressure</th>\n",
       "      <th>SkinThickness</th>\n",
       "      <th>Insulin</th>\n",
       "      <th>BMI</th>\n",
       "      <th>DiabetesPedigreeFunction</th>\n",
       "      <th>Age</th>\n",
       "      <th>Predictions_xgboost</th>\n",
       "      <th>Predictions_random_forest</th>\n",
       "    </tr>\n",
       "  </thead>\n",
       "  <tbody>\n",
       "    <tr>\n",
       "      <th>0</th>\n",
       "      <td>5</td>\n",
       "      <td>150</td>\n",
       "      <td>70</td>\n",
       "      <td>33</td>\n",
       "      <td>170</td>\n",
       "      <td>30</td>\n",
       "      <td>0.5</td>\n",
       "      <td>30</td>\n",
       "      <td>1</td>\n",
       "      <td>1</td>\n",
       "    </tr>\n",
       "    <tr>\n",
       "      <th>1</th>\n",
       "      <td>6</td>\n",
       "      <td>135</td>\n",
       "      <td>80</td>\n",
       "      <td>35</td>\n",
       "      <td>150</td>\n",
       "      <td>40</td>\n",
       "      <td>0.5</td>\n",
       "      <td>40</td>\n",
       "      <td>1</td>\n",
       "      <td>1</td>\n",
       "    </tr>\n",
       "    <tr>\n",
       "      <th>2</th>\n",
       "      <td>5</td>\n",
       "      <td>85</td>\n",
       "      <td>90</td>\n",
       "      <td>40</td>\n",
       "      <td>130</td>\n",
       "      <td>25</td>\n",
       "      <td>1.0</td>\n",
       "      <td>25</td>\n",
       "      <td>0</td>\n",
       "      <td>0</td>\n",
       "    </tr>\n",
       "    <tr>\n",
       "      <th>3</th>\n",
       "      <td>3</td>\n",
       "      <td>190</td>\n",
       "      <td>78</td>\n",
       "      <td>25</td>\n",
       "      <td>200</td>\n",
       "      <td>30</td>\n",
       "      <td>0.6</td>\n",
       "      <td>35</td>\n",
       "      <td>1</td>\n",
       "      <td>1</td>\n",
       "    </tr>\n",
       "    <tr>\n",
       "      <th>4</th>\n",
       "      <td>8</td>\n",
       "      <td>60</td>\n",
       "      <td>70</td>\n",
       "      <td>27</td>\n",
       "      <td>90</td>\n",
       "      <td>45</td>\n",
       "      <td>2.0</td>\n",
       "      <td>20</td>\n",
       "      <td>0</td>\n",
       "      <td>0</td>\n",
       "    </tr>\n",
       "  </tbody>\n",
       "</table>\n",
       "</div>"
      ],
      "text/plain": [
       "   Pregnancies  Glucose  BloodPressure  SkinThickness  Insulin  BMI  \\\n",
       "0            5      150             70             33      170   30   \n",
       "1            6      135             80             35      150   40   \n",
       "2            5       85             90             40      130   25   \n",
       "3            3      190             78             25      200   30   \n",
       "4            8       60             70             27       90   45   \n",
       "\n",
       "   DiabetesPedigreeFunction  Age  Predictions_xgboost  \\\n",
       "0                       0.5   30                    1   \n",
       "1                       0.5   40                    1   \n",
       "2                       1.0   25                    0   \n",
       "3                       0.6   35                    1   \n",
       "4                       2.0   20                    0   \n",
       "\n",
       "   Predictions_random_forest  \n",
       "0                          1  \n",
       "1                          1  \n",
       "2                          0  \n",
       "3                          1  \n",
       "4                          0  "
      ]
     },
     "execution_count": 76,
     "metadata": {},
     "output_type": "execute_result"
    }
   ],
   "source": [
    "sample_data"
   ]
  }
 ],
 "metadata": {
  "accelerator": "GPU",
  "colab": {
   "gpuType": "T4",
   "provenance": []
  },
  "kernelspec": {
   "display_name": "Python 3 (ipykernel)",
   "language": "python",
   "name": "python3"
  },
  "language_info": {
   "codemirror_mode": {
    "name": "ipython",
    "version": 3
   },
   "file_extension": ".py",
   "mimetype": "text/x-python",
   "name": "python",
   "nbconvert_exporter": "python",
   "pygments_lexer": "ipython3",
   "version": "3.11.4"
  }
 },
 "nbformat": 4,
 "nbformat_minor": 1
}
